{
 "cells": [
  {
   "cell_type": "markdown",
   "metadata": {},
   "source": [
    "# Object Oriented Programming"
   ]
  },
  {
   "cell_type": "markdown",
   "metadata": {},
   "source": [
    "* Basics of creating and instantiating classes \n",
    "* Inheritance\n",
    "* Class & Instance Variables\n",
    "* Static Methods & Class Methods\n"
   ]
  },
  {
   "cell_type": "markdown",
   "metadata": {},
   "source": [
    "### Creating and instantiating class"
   ]
  },
  {
   "cell_type": "markdown",
   "metadata": {},
   "source": [
    "Classes allows us to logically group our data and functions for reusability \n",
    "\n",
    "Method : A function associated with a class\n",
    "\n",
    "Attribute : Data variable associated with a class\n"
   ]
  },
  {
   "cell_type": "code",
   "execution_count": 116,
   "metadata": {},
   "outputs": [],
   "source": [
    "#Let's create a simple class which contains each employee details\n",
    "class employee:\n",
    "    #constructor method or initializing class \n",
    "    def __init__(self,firstname,lastname,pay):\n",
    "        #set all the instance variables\n",
    "        self.firstname=firstname\n",
    "        self.lastname=lastname\n",
    "        self.pay=pay\n",
    "        self.email=firstname+ '.' +lastname+ '@gmail.com'\n",
    "        \n",
    "    #defining method to print full name\n",
    "    def fullname(self):\n",
    "        return '{} {}' .format(self.firstname,self.lastname)\n",
    "        \n",
    "        \n"
   ]
  },
  {
   "cell_type": "markdown",
   "metadata": {},
   "source": [
    "When we create a method within the class , it receives the instance(self) as the first argument automatically "
   ]
  },
  {
   "cell_type": "code",
   "execution_count": 117,
   "metadata": {},
   "outputs": [],
   "source": [
    "#creating instance of the class\n",
    "emp_1=employee('pramod','singh',20000)"
   ]
  },
  {
   "cell_type": "code",
   "execution_count": 118,
   "metadata": {},
   "outputs": [],
   "source": [
    "emp_2=employee('noemie','greyl',150000)"
   ]
  },
  {
   "cell_type": "code",
   "execution_count": 119,
   "metadata": {},
   "outputs": [
    {
     "data": {
      "text/plain": [
       "'noemie'"
      ]
     },
     "execution_count": 119,
     "metadata": {},
     "output_type": "execute_result"
    }
   ],
   "source": [
    "emp_2.firstname"
   ]
  },
  {
   "cell_type": "markdown",
   "metadata": {},
   "source": [
    "Note that firstname is an attribute of the class"
   ]
  },
  {
   "cell_type": "code",
   "execution_count": 120,
   "metadata": {},
   "outputs": [
    {
     "data": {
      "text/plain": [
       "'noemie greyl'"
      ]
     },
     "execution_count": 120,
     "metadata": {},
     "output_type": "execute_result"
    }
   ],
   "source": [
    "emp_2.fullname()"
   ]
  },
  {
   "cell_type": "markdown",
   "metadata": {},
   "source": [
    "Note that we use () for calling fullname because fullname is a method of the class "
   ]
  },
  {
   "cell_type": "code",
   "execution_count": 121,
   "metadata": {},
   "outputs": [
    {
     "data": {
      "text/plain": [
       "20000"
      ]
     },
     "execution_count": 121,
     "metadata": {},
     "output_type": "execute_result"
    }
   ],
   "source": [
    "emp_1.pay"
   ]
  },
  {
   "cell_type": "markdown",
   "metadata": {},
   "source": [
    "### Class Variables "
   ]
  },
  {
   "cell_type": "markdown",
   "metadata": {},
   "source": [
    "Class variables are variables which are shared amongst all instances of the class . Instance variables can be unique to specific class instance"
   ]
  },
  {
   "cell_type": "code",
   "execution_count": 122,
   "metadata": {},
   "outputs": [],
   "source": [
    "# Add one more method to the class\n",
    "\n",
    "class employee:\n",
    "    \n",
    "    def __init__(self,firstname,lastname,pay):\n",
    "        self.firstname=firstname\n",
    "        self.lastname=lastname\n",
    "        self.pay=pay\n",
    "        self.email=firstname+ '.' +lastname+ '@gmail.com'\n",
    "        \n",
    "    def fullname(self):\n",
    "        return '{} {}' .format(self.firstname,self.lastname)\n",
    "    \n",
    "    def pay_hike(self):\n",
    "        #instance variable\n",
    "        self.pay=int(self.pay*1.05)\n",
    "\n"
   ]
  },
  {
   "cell_type": "code",
   "execution_count": 123,
   "metadata": {},
   "outputs": [],
   "source": [
    "#creating instance of the class\n",
    "emp_1=employee('pramod','singh',20000)"
   ]
  },
  {
   "cell_type": "code",
   "execution_count": 124,
   "metadata": {},
   "outputs": [],
   "source": [
    "emp_2=employee('noemie','greyl',150000)"
   ]
  },
  {
   "cell_type": "code",
   "execution_count": 125,
   "metadata": {},
   "outputs": [],
   "source": [
    "emp_2.pay_hike()"
   ]
  },
  {
   "cell_type": "code",
   "execution_count": 126,
   "metadata": {},
   "outputs": [
    {
     "data": {
      "text/plain": [
       "157500"
      ]
     },
     "execution_count": 126,
     "metadata": {},
     "output_type": "execute_result"
    }
   ],
   "source": [
    "#pay after the hike\n",
    "emp_2.pay"
   ]
  },
  {
   "cell_type": "markdown",
   "metadata": {},
   "source": [
    "currently hike is limited to the specific method of pay_hike but if we want to use it globally we can declare it as a class variable "
   ]
  },
  {
   "cell_type": "code",
   "execution_count": 127,
   "metadata": {},
   "outputs": [],
   "source": [
    "# Add class variable\n",
    "class employee:\n",
    "    \n",
    "    hike=1.05\n",
    "    \n",
    "    def __init__(self,firstname,lastname,pay):\n",
    "        self.firstname=firstname\n",
    "        self.lastname=lastname\n",
    "        self.pay=pay\n",
    "        self.email=firstname+ '.' +lastname+ '@gmail.com'\n",
    "        \n",
    "    def fullname(self):\n",
    "        return '{} {}' .format(self.firstname,self.lastname)\n",
    "    \n",
    "    def pay_hike(self):\n",
    "        #to access class variables we need to use class itself or instance \n",
    "        self.pay=int(self.pay*self.hike)\n"
   ]
  },
  {
   "cell_type": "code",
   "execution_count": 131,
   "metadata": {},
   "outputs": [],
   "source": [
    "emp_2=employee('noemie','greyl',150000)"
   ]
  },
  {
   "cell_type": "code",
   "execution_count": 132,
   "metadata": {},
   "outputs": [],
   "source": [
    "emp_2.pay_hike()"
   ]
  },
  {
   "cell_type": "code",
   "execution_count": 133,
   "metadata": {},
   "outputs": [
    {
     "data": {
      "text/plain": [
       "157500"
      ]
     },
     "execution_count": 133,
     "metadata": {},
     "output_type": "execute_result"
    }
   ],
   "source": [
    "#pay after the hike\n",
    "emp_2.pay"
   ]
  },
  {
   "cell_type": "code",
   "execution_count": 134,
   "metadata": {},
   "outputs": [
    {
     "data": {
      "text/plain": [
       "1.05"
      ]
     },
     "execution_count": 134,
     "metadata": {},
     "output_type": "execute_result"
    }
   ],
   "source": [
    "#access class variable using instance\n",
    "emp_2.hike"
   ]
  },
  {
   "cell_type": "code",
   "execution_count": 135,
   "metadata": {},
   "outputs": [
    {
     "data": {
      "text/plain": [
       "1.05"
      ]
     },
     "execution_count": 135,
     "metadata": {},
     "output_type": "execute_result"
    }
   ],
   "source": [
    "#access the class variable using class\n",
    "employee.hike"
   ]
  },
  {
   "cell_type": "markdown",
   "metadata": {},
   "source": [
    "we can access the class variable from class itself as well as the instance "
   ]
  },
  {
   "cell_type": "markdown",
   "metadata": {},
   "source": [
    "#### Namespace for class instance "
   ]
  },
  {
   "cell_type": "code",
   "execution_count": 136,
   "metadata": {},
   "outputs": [
    {
     "data": {
      "text/plain": [
       "{'email': 'noemie.greyl@gmail.com',\n",
       " 'firstname': 'noemie',\n",
       " 'lastname': 'greyl',\n",
       " 'pay': 157500}"
      ]
     },
     "execution_count": 136,
     "metadata": {},
     "output_type": "execute_result"
    }
   ],
   "source": [
    "emp_2.__dict__"
   ]
  },
  {
   "cell_type": "markdown",
   "metadata": {},
   "source": [
    "hike variable is not present in the instance variable list "
   ]
  },
  {
   "cell_type": "markdown",
   "metadata": {},
   "source": [
    "#### Namespace for main class Employee "
   ]
  },
  {
   "cell_type": "code",
   "execution_count": 137,
   "metadata": {},
   "outputs": [
    {
     "data": {
      "text/plain": [
       "mappingproxy({'__dict__': <attribute '__dict__' of 'employee' objects>,\n",
       "              '__doc__': None,\n",
       "              '__init__': <function __main__.employee.__init__>,\n",
       "              '__module__': '__main__',\n",
       "              '__weakref__': <attribute '__weakref__' of 'employee' objects>,\n",
       "              'fullname': <function __main__.employee.fullname>,\n",
       "              'hike': 1.05,\n",
       "              'pay_hike': <function __main__.employee.pay_hike>})"
      ]
     },
     "execution_count": 137,
     "metadata": {},
     "output_type": "execute_result"
    }
   ],
   "source": [
    "employee.__dict__"
   ]
  },
  {
   "cell_type": "markdown",
   "metadata": {},
   "source": [
    "hike variable is present in the class variable list "
   ]
  },
  {
   "cell_type": "markdown",
   "metadata": {},
   "source": [
    "#### Alter the class variable value using class "
   ]
  },
  {
   "cell_type": "code",
   "execution_count": 138,
   "metadata": {},
   "outputs": [],
   "source": [
    "employee.hike=1.15"
   ]
  },
  {
   "cell_type": "code",
   "execution_count": 139,
   "metadata": {},
   "outputs": [
    {
     "data": {
      "text/plain": [
       "1.15"
      ]
     },
     "execution_count": 139,
     "metadata": {},
     "output_type": "execute_result"
    }
   ],
   "source": [
    "#hiek value changes for the instance as well \n",
    "emp_2.hike"
   ]
  },
  {
   "cell_type": "markdown",
   "metadata": {},
   "source": [
    "#### Alter the class variable value using instance "
   ]
  },
  {
   "cell_type": "code",
   "execution_count": 140,
   "metadata": {},
   "outputs": [],
   "source": [
    "emp_2.hike=1.10"
   ]
  },
  {
   "cell_type": "code",
   "execution_count": 141,
   "metadata": {},
   "outputs": [
    {
     "name": "stdout",
     "output_type": "stream",
     "text": [
      "1.15\n",
      "1.1\n"
     ]
    }
   ],
   "source": [
    "print(employee.hike)\n",
    "print(emp_2.hike)"
   ]
  },
  {
   "cell_type": "markdown",
   "metadata": {},
   "source": [
    "so, the class variable value changes only for the instance variable , not for the entire class by creating a hike attribute within emp_2 instance"
   ]
  },
  {
   "cell_type": "markdown",
   "metadata": {},
   "source": [
    "#### check the namespace for class instance again ( emp_2)"
   ]
  },
  {
   "cell_type": "code",
   "execution_count": 142,
   "metadata": {},
   "outputs": [
    {
     "data": {
      "text/plain": [
       "{'email': 'noemie.greyl@gmail.com',\n",
       " 'firstname': 'noemie',\n",
       " 'hike': 1.1,\n",
       " 'lastname': 'greyl',\n",
       " 'pay': 157500}"
      ]
     },
     "execution_count": 142,
     "metadata": {},
     "output_type": "execute_result"
    }
   ],
   "source": [
    "emp_2.__dict__"
   ]
  },
  {
   "cell_type": "markdown",
   "metadata": {},
   "source": [
    "Earlier hike variable was not present , but after assignment it is created within the instance but is specific to this instance"
   ]
  },
  {
   "cell_type": "code",
   "execution_count": 39,
   "metadata": {},
   "outputs": [
    {
     "data": {
      "text/plain": [
       "{'email': 'pramod.singh@gmail.com',\n",
       " 'firstname': 'pramod',\n",
       " 'lastname': 'singh',\n",
       " 'pay': 21000}"
      ]
     },
     "execution_count": 39,
     "metadata": {},
     "output_type": "execute_result"
    }
   ],
   "source": [
    "emp_1.__dict__"
   ]
  },
  {
   "cell_type": "markdown",
   "metadata": {},
   "source": [
    "However , for emp_1 instance , the class variable is still not present "
   ]
  },
  {
   "cell_type": "markdown",
   "metadata": {},
   "source": [
    " "
   ]
  },
  {
   "cell_type": "markdown",
   "metadata": {},
   "source": [
    " ### Regular Methods Vs Class Method Vs  Static Methods"
   ]
  },
  {
   "cell_type": "markdown",
   "metadata": {},
   "source": [
    "Regular methods in a class automatically takes the instance as the first argument (self) whereas class methods receives class as the first argument"
   ]
  },
  {
   "cell_type": "code",
   "execution_count": 54,
   "metadata": {},
   "outputs": [],
   "source": [
    "# Add class variable\n",
    "class employee:\n",
    "    \n",
    "    hike=1.05\n",
    "    \n",
    "    def __init__(self,firstname,lastname,pay):\n",
    "        self.firstname=firstname\n",
    "        self.lastname=lastname\n",
    "        self.pay=pay\n",
    "        self.email=firstname+ '.' +lastname+ '@gmail.com'\n",
    "        \n",
    "    def fullname(self):\n",
    "        return '{} {}' .format(self.firstname,self.lastname)\n",
    "    \n",
    "    def pay_hike(self):\n",
    "        #to access class variables we need to use class itself or instance \n",
    "        self.pay=int(self.pay*self.hike)\n",
    "        \n",
    "    #decorator\n",
    "    @classmethod\n",
    "    #create a class method\n",
    "    def set_hike_amount(cls,amount):\n",
    "        #convention for self (class level) , we working here with class method instead of instance\n",
    "        cls.hike=amount\n"
   ]
  },
  {
   "cell_type": "code",
   "execution_count": 143,
   "metadata": {},
   "outputs": [],
   "source": [
    "#create employee instance \n",
    "emp_2=employee('noemie','greyl',150000)"
   ]
  },
  {
   "cell_type": "code",
   "execution_count": 144,
   "metadata": {},
   "outputs": [
    {
     "name": "stdout",
     "output_type": "stream",
     "text": [
      "1.15\n",
      "1.15\n"
     ]
    }
   ],
   "source": [
    "#value of class variable ( hike is 5%)\n",
    "print(employee.hike)\n",
    "#value of instance variable\n",
    "print(emp_2.hike)"
   ]
  },
  {
   "cell_type": "code",
   "execution_count": 45,
   "metadata": {},
   "outputs": [],
   "source": [
    "#use the class method ( set_hike_amount) to change the hike percentage\n",
    "employee.set_hike_amount(1.03)\n",
    "#no need to pass cls argument"
   ]
  },
  {
   "cell_type": "code",
   "execution_count": 47,
   "metadata": {},
   "outputs": [
    {
     "name": "stdout",
     "output_type": "stream",
     "text": [
      "1.03\n",
      "1.03\n"
     ]
    }
   ],
   "source": [
    "# we ran the class method and hence the hike value changed on class level\n",
    "print(employee.hike)\n",
    "print(emp_2.hike)"
   ]
  },
  {
   "cell_type": "markdown",
   "metadata": {},
   "source": [
    " "
   ]
  },
  {
   "cell_type": "markdown",
   "metadata": {},
   "source": [
    "### Inheritance - Creating Sub classes "
   ]
  },
  {
   "cell_type": "markdown",
   "metadata": {},
   "source": [
    "Create subclasses for developers and managers that inherit few of the properties ( name , pay ,email id ) from the parent class employee"
   ]
  },
  {
   "cell_type": "code",
   "execution_count": 145,
   "metadata": {},
   "outputs": [],
   "source": [
    "#create sub class -developer\n",
    "\n",
    "class developer(employee):\n",
    "    pass\n",
    "    "
   ]
  },
  {
   "cell_type": "code",
   "execution_count": 146,
   "metadata": {},
   "outputs": [],
   "source": [
    "#create couple of developer(sub class) instances \n",
    "#It looks for init method in developer class , since its not present , it then goes the employee ( master class) \n",
    "dev_1=developer('roger','federer',10000)\n",
    "dev_2=developer('rafael','nadal',150000)"
   ]
  },
  {
   "cell_type": "code",
   "execution_count": 147,
   "metadata": {},
   "outputs": [
    {
     "name": "stdout",
     "output_type": "stream",
     "text": [
      "roger.federer@gmail.com\n",
      "rafael.nadal@gmail.com\n"
     ]
    }
   ],
   "source": [
    "#without writing any code for inheritance specifically , sub class inherits the attributes and methods from master class\n",
    "print(dev_1.email)\n",
    "print(dev_2.email)"
   ]
  },
  {
   "cell_type": "markdown",
   "metadata": {},
   "source": [
    "##### More details on inheritance "
   ]
  },
  {
   "cell_type": "code",
   "execution_count": 71,
   "metadata": {},
   "outputs": [
    {
     "name": "stdout",
     "output_type": "stream",
     "text": [
      "Help on class developer in module __main__:\n",
      "\n",
      "class developer(employee)\n",
      " |  Method resolution order:\n",
      " |      developer\n",
      " |      employee\n",
      " |      builtins.object\n",
      " |  \n",
      " |  Methods inherited from employee:\n",
      " |  \n",
      " |  __init__(self, firstname, lastname, pay)\n",
      " |      Initialize self.  See help(type(self)) for accurate signature.\n",
      " |  \n",
      " |  fullname(self)\n",
      " |  \n",
      " |  pay_hike(self)\n",
      " |  \n",
      " |  ----------------------------------------------------------------------\n",
      " |  Data descriptors inherited from employee:\n",
      " |  \n",
      " |  __dict__\n",
      " |      dictionary for instance variables (if defined)\n",
      " |  \n",
      " |  __weakref__\n",
      " |      list of weak references to the object (if defined)\n",
      " |  \n",
      " |  ----------------------------------------------------------------------\n",
      " |  Data and other attributes inherited from employee:\n",
      " |  \n",
      " |  hike = 1.05\n",
      "\n",
      "None\n"
     ]
    }
   ],
   "source": [
    "print(help(developer))"
   ]
  },
  {
   "cell_type": "code",
   "execution_count": 148,
   "metadata": {},
   "outputs": [
    {
     "name": "stdout",
     "output_type": "stream",
     "text": [
      "10000\n",
      "11500\n"
     ]
    }
   ],
   "source": [
    "print(dev_1.pay)\n",
    "dev_1.pay_hike()\n",
    "print(dev_1.pay)"
   ]
  },
  {
   "cell_type": "code",
   "execution_count": 74,
   "metadata": {},
   "outputs": [],
   "source": [
    "#change the hike amount to 10% for developers\n",
    "#create sub class -developer\n",
    "\n",
    "class developer(employee):\n",
    "    hike=1.10\n",
    "    pass\n",
    "    "
   ]
  },
  {
   "cell_type": "code",
   "execution_count": 79,
   "metadata": {},
   "outputs": [
    {
     "name": "stdout",
     "output_type": "stream",
     "text": [
      "10000\n",
      "11000\n"
     ]
    }
   ],
   "source": [
    "print(dev_1.pay)\n",
    "dev_1.pay_hike()\n",
    "#it considered the hike amount of sub class before looking for hike variable in global class\n",
    "print(dev_1.pay)"
   ]
  },
  {
   "cell_type": "code",
   "execution_count": 149,
   "metadata": {},
   "outputs": [],
   "source": [
    "## Additional variables for subclass\n",
    "## add programming language for developers\n",
    "\n",
    "\n",
    "class developer(employee):\n",
    "     \n",
    "    def __init__(self,firstname,lastname,pay,prog_language):\n",
    "        super().__init__(firstname,lastname,pay)\n",
    "        #employee().__init__(self,firstname,lastname,pay)\n",
    "        self.prog_language=prog_language\n",
    "      \n"
   ]
  },
  {
   "cell_type": "code",
   "execution_count": 150,
   "metadata": {},
   "outputs": [],
   "source": [
    "dev_1=developer('roger','federer',10000,'java')\n",
    "dev_2=developer('rafael','nadal',150000,'python')"
   ]
  },
  {
   "cell_type": "code",
   "execution_count": 151,
   "metadata": {},
   "outputs": [
    {
     "name": "stdout",
     "output_type": "stream",
     "text": [
      "roger.federer@gmail.com\n",
      "java\n"
     ]
    }
   ],
   "source": [
    "print(dev_1.email)\n",
    "print(dev_1.prog_language)"
   ]
  },
  {
   "cell_type": "code",
   "execution_count": 108,
   "metadata": {},
   "outputs": [],
   "source": [
    "#create another sub class \"Manager\"\n",
    "\n",
    "class manager(employee):\n",
    "     \n",
    "    def __init__(self,firstname,lastname,pay,employees=[]):\n",
    "        super().__init__(firstname,lastname,pay)\n",
    "        if employees==None:\n",
    "            self.employees=[]\n",
    "        else:\n",
    "            self.employees=employees\n",
    "    \n",
    "    def add_emp(self,emp):\n",
    "        if emp not in self.employees:\n",
    "            self.employees.append(emp)\n",
    "    \n",
    "    def remove_emp(self,emp):\n",
    "        if emp in self.employees:\n",
    "            self.employees.append(emp)\n",
    "            \n",
    "    def print_emp(self):\n",
    "        for emp in self.employees:\n",
    "            print('--->',emp)\n",
    "      "
   ]
  },
  {
   "cell_type": "code",
   "execution_count": 109,
   "metadata": {},
   "outputs": [],
   "source": [
    "mgr_1=manager('mark','johnson',5000000,[dev_1])"
   ]
  },
  {
   "cell_type": "code",
   "execution_count": 110,
   "metadata": {},
   "outputs": [
    {
     "name": "stdout",
     "output_type": "stream",
     "text": [
      "{'firstname': 'mark', 'lastname': 'johnson', 'pay': 5000000, 'email': 'mark.johnson@gmail.com', 'employees': [<__main__.developer object at 0x7f8f06744c50>]}\n"
     ]
    }
   ],
   "source": [
    "print(mgr_1.__dict__)"
   ]
  },
  {
   "cell_type": "code",
   "execution_count": 111,
   "metadata": {},
   "outputs": [
    {
     "name": "stdout",
     "output_type": "stream",
     "text": [
      "---> <__main__.developer object at 0x7f8f06744c50>\n"
     ]
    }
   ],
   "source": [
    "mgr_1.print_emp()"
   ]
  },
  {
   "cell_type": "code",
   "execution_count": 112,
   "metadata": {},
   "outputs": [],
   "source": [
    "mgr_1.add_emp(dev_2)"
   ]
  },
  {
   "cell_type": "code",
   "execution_count": 113,
   "metadata": {},
   "outputs": [
    {
     "data": {
      "text/plain": [
       "{'email': 'mark.johnson@gmail.com',\n",
       " 'employees': [<__main__.developer at 0x7f8f06744c50>,\n",
       "  <__main__.developer at 0x7f8f06744390>],\n",
       " 'firstname': 'mark',\n",
       " 'lastname': 'johnson',\n",
       " 'pay': 5000000}"
      ]
     },
     "execution_count": 113,
     "metadata": {},
     "output_type": "execute_result"
    }
   ],
   "source": [
    "mgr_1.__dict__"
   ]
  },
  {
   "cell_type": "code",
   "execution_count": 114,
   "metadata": {},
   "outputs": [
    {
     "data": {
      "text/plain": [
       "'mark johnson'"
      ]
     },
     "execution_count": 114,
     "metadata": {},
     "output_type": "execute_result"
    }
   ],
   "source": [
    "mgr_1.fullname()"
   ]
  },
  {
   "cell_type": "code",
   "execution_count": 115,
   "metadata": {},
   "outputs": [
    {
     "name": "stdout",
     "output_type": "stream",
     "text": [
      "---> <__main__.developer object at 0x7f8f06744c50>\n",
      "---> <__main__.developer object at 0x7f8f06744390>\n"
     ]
    }
   ],
   "source": [
    "mgr_1.print_emp()"
   ]
  },
  {
   "cell_type": "code",
   "execution_count": null,
   "metadata": {},
   "outputs": [],
   "source": []
  }
 ],
 "metadata": {
  "kernelspec": {
   "display_name": "Python 3",
   "language": "python",
   "name": "python3"
  },
  "language_info": {
   "codemirror_mode": {
    "name": "ipython",
    "version": 3
   },
   "file_extension": ".py",
   "mimetype": "text/x-python",
   "name": "python",
   "nbconvert_exporter": "python",
   "pygments_lexer": "ipython3",
   "version": "3.6.3"
  }
 },
 "nbformat": 4,
 "nbformat_minor": 2
}
