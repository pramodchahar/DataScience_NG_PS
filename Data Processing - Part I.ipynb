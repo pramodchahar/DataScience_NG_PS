{
 "cells": [
  {
   "cell_type": "code",
   "execution_count": 1,
   "metadata": {},
   "outputs": [],
   "source": [
    "#Import the libraries\n",
    "import numpy as np\n",
    "import pandas as pd\n",
    "from pandas import *"
   ]
  },
  {
   "cell_type": "markdown",
   "metadata": {},
   "source": [
    "## Reading & Writing text files"
   ]
  },
  {
   "cell_type": "code",
   "execution_count": 2,
   "metadata": {},
   "outputs": [],
   "source": [
    "#new df using the read_csv function \n",
    "txt_df=pd.read_csv('sample_txt.csv')"
   ]
  },
  {
   "cell_type": "code",
   "execution_count": 3,
   "metadata": {},
   "outputs": [
    {
     "data": {
      "text/html": [
       "<div>\n",
       "<table border=\"1\" class=\"dataframe\">\n",
       "  <thead>\n",
       "    <tr style=\"text-align: right;\">\n",
       "      <th></th>\n",
       "      <th>2</th>\n",
       "      <th>5</th>\n",
       "      <th>7</th>\n",
       "      <th>infant</th>\n",
       "    </tr>\n",
       "  </thead>\n",
       "  <tbody>\n",
       "    <tr>\n",
       "      <th>0</th>\n",
       "      <td>13</td>\n",
       "      <td>76</td>\n",
       "      <td>8</td>\n",
       "      <td>old</td>\n",
       "    </tr>\n",
       "    <tr>\n",
       "      <th>1</th>\n",
       "      <td>9</td>\n",
       "      <td>55</td>\n",
       "      <td>21</td>\n",
       "      <td>newborn</td>\n",
       "    </tr>\n",
       "    <tr>\n",
       "      <th>2</th>\n",
       "      <td>45</td>\n",
       "      <td>66</td>\n",
       "      <td>82</td>\n",
       "      <td>toddler</td>\n",
       "    </tr>\n",
       "  </tbody>\n",
       "</table>\n",
       "</div>"
      ],
      "text/plain": [
       "    2   5   7   infant\n",
       "0  13  76   8      old\n",
       "1   9  55  21  newborn\n",
       "2  45  66  82  toddler"
      ]
     },
     "execution_count": 3,
     "metadata": {},
     "output_type": "execute_result"
    }
   ],
   "source": [
    "txt_df"
   ]
  },
  {
   "cell_type": "markdown",
   "metadata": {},
   "source": [
    "### Set the first row calues as column names "
   ]
  },
  {
   "cell_type": "code",
   "execution_count": 6,
   "metadata": {
    "collapsed": true
   },
   "outputs": [],
   "source": [
    "#new df using the read_csv function \n",
    "txt_df=pd.read_csv('sample_txt.csv',header=None)"
   ]
  },
  {
   "cell_type": "code",
   "execution_count": 7,
   "metadata": {},
   "outputs": [
    {
     "data": {
      "text/html": [
       "<div>\n",
       "<style>\n",
       "    .dataframe thead tr:only-child th {\n",
       "        text-align: right;\n",
       "    }\n",
       "\n",
       "    .dataframe thead th {\n",
       "        text-align: left;\n",
       "    }\n",
       "\n",
       "    .dataframe tbody tr th {\n",
       "        vertical-align: top;\n",
       "    }\n",
       "</style>\n",
       "<table border=\"1\" class=\"dataframe\">\n",
       "  <thead>\n",
       "    <tr style=\"text-align: right;\">\n",
       "      <th></th>\n",
       "      <th>0</th>\n",
       "      <th>1</th>\n",
       "      <th>2</th>\n",
       "      <th>3</th>\n",
       "    </tr>\n",
       "  </thead>\n",
       "  <tbody>\n",
       "    <tr>\n",
       "      <th>0</th>\n",
       "      <td>2</td>\n",
       "      <td>5</td>\n",
       "      <td>7</td>\n",
       "      <td>infant</td>\n",
       "    </tr>\n",
       "    <tr>\n",
       "      <th>1</th>\n",
       "      <td>13</td>\n",
       "      <td>76</td>\n",
       "      <td>8</td>\n",
       "      <td>old</td>\n",
       "    </tr>\n",
       "    <tr>\n",
       "      <th>2</th>\n",
       "      <td>9</td>\n",
       "      <td>55</td>\n",
       "      <td>21</td>\n",
       "      <td>newborn</td>\n",
       "    </tr>\n",
       "    <tr>\n",
       "      <th>3</th>\n",
       "      <td>45</td>\n",
       "      <td>66</td>\n",
       "      <td>82</td>\n",
       "      <td>toddler</td>\n",
       "    </tr>\n",
       "  </tbody>\n",
       "</table>\n",
       "</div>"
      ],
      "text/plain": [
       "    0   1   2        3\n",
       "0   2   5   7   infant\n",
       "1  13  76   8      old\n",
       "2   9  55  21  newborn\n",
       "3  45  66  82  toddler"
      ]
     },
     "execution_count": 7,
     "metadata": {},
     "output_type": "execute_result"
    }
   ],
   "source": [
    "txt_df"
   ]
  },
  {
   "cell_type": "markdown",
   "metadata": {},
   "source": [
    "### In case of other delimiters "
   ]
  },
  {
   "cell_type": "code",
   "execution_count": 11,
   "metadata": {},
   "outputs": [],
   "source": [
    "#Use read_table function and declare the seperator\n",
    "txt_df=pd.read_table('sample_txt.csv',sep=\",\",header=None)"
   ]
  },
  {
   "cell_type": "code",
   "execution_count": 12,
   "metadata": {},
   "outputs": [
    {
     "data": {
      "text/html": [
       "<div>\n",
       "<style>\n",
       "    .dataframe thead tr:only-child th {\n",
       "        text-align: right;\n",
       "    }\n",
       "\n",
       "    .dataframe thead th {\n",
       "        text-align: left;\n",
       "    }\n",
       "\n",
       "    .dataframe tbody tr th {\n",
       "        vertical-align: top;\n",
       "    }\n",
       "</style>\n",
       "<table border=\"1\" class=\"dataframe\">\n",
       "  <thead>\n",
       "    <tr style=\"text-align: right;\">\n",
       "      <th></th>\n",
       "      <th>0</th>\n",
       "      <th>1</th>\n",
       "      <th>2</th>\n",
       "      <th>3</th>\n",
       "    </tr>\n",
       "  </thead>\n",
       "  <tbody>\n",
       "    <tr>\n",
       "      <th>0</th>\n",
       "      <td>2</td>\n",
       "      <td>5</td>\n",
       "      <td>7</td>\n",
       "      <td>infant</td>\n",
       "    </tr>\n",
       "    <tr>\n",
       "      <th>1</th>\n",
       "      <td>13</td>\n",
       "      <td>76</td>\n",
       "      <td>8</td>\n",
       "      <td>old</td>\n",
       "    </tr>\n",
       "    <tr>\n",
       "      <th>2</th>\n",
       "      <td>9</td>\n",
       "      <td>55</td>\n",
       "      <td>21</td>\n",
       "      <td>newborn</td>\n",
       "    </tr>\n",
       "    <tr>\n",
       "      <th>3</th>\n",
       "      <td>45</td>\n",
       "      <td>66</td>\n",
       "      <td>82</td>\n",
       "      <td>toddler</td>\n",
       "    </tr>\n",
       "  </tbody>\n",
       "</table>\n",
       "</div>"
      ],
      "text/plain": [
       "    0   1   2        3\n",
       "0   2   5   7   infant\n",
       "1  13  76   8      old\n",
       "2   9  55  21  newborn\n",
       "3  45  66  82  toddler"
      ]
     },
     "execution_count": 12,
     "metadata": {},
     "output_type": "execute_result"
    }
   ],
   "source": [
    "txt_df"
   ]
  },
  {
   "cell_type": "markdown",
   "metadata": {},
   "source": [
    "### Read only specific number of rows "
   ]
  },
  {
   "cell_type": "code",
   "execution_count": 4,
   "metadata": {},
   "outputs": [
    {
     "data": {
      "text/html": [
       "<div>\n",
       "<table border=\"1\" class=\"dataframe\">\n",
       "  <thead>\n",
       "    <tr style=\"text-align: right;\">\n",
       "      <th></th>\n",
       "      <th>0</th>\n",
       "      <th>1</th>\n",
       "      <th>2</th>\n",
       "      <th>3</th>\n",
       "    </tr>\n",
       "  </thead>\n",
       "  <tbody>\n",
       "    <tr>\n",
       "      <th>0</th>\n",
       "      <td>2</td>\n",
       "      <td>5</td>\n",
       "      <td>7</td>\n",
       "      <td>infant</td>\n",
       "    </tr>\n",
       "    <tr>\n",
       "      <th>1</th>\n",
       "      <td>13</td>\n",
       "      <td>76</td>\n",
       "      <td>8</td>\n",
       "      <td>old</td>\n",
       "    </tr>\n",
       "  </tbody>\n",
       "</table>\n",
       "</div>"
      ],
      "text/plain": [
       "    0   1  2       3\n",
       "0   2   5  7  infant\n",
       "1  13  76  8     old"
      ]
     },
     "execution_count": 4,
     "metadata": {},
     "output_type": "execute_result"
    }
   ],
   "source": [
    "#declare the nrows parameter\n",
    "pd.read_csv('sample_txt.csv',header=None,nrows=2)"
   ]
  },
  {
   "cell_type": "markdown",
   "metadata": {},
   "source": [
    "## Write to dataframe to other location"
   ]
  },
  {
   "cell_type": "code",
   "execution_count": 14,
   "metadata": {
    "collapsed": true
   },
   "outputs": [],
   "source": [
    "#dataframe to csv file\n",
    "txt_df.to_csv('first_df.csv')"
   ]
  },
  {
   "cell_type": "code",
   "execution_count": 15,
   "metadata": {},
   "outputs": [
    {
     "data": {
      "text/html": [
       "<div>\n",
       "<style>\n",
       "    .dataframe thead tr:only-child th {\n",
       "        text-align: right;\n",
       "    }\n",
       "\n",
       "    .dataframe thead th {\n",
       "        text-align: left;\n",
       "    }\n",
       "\n",
       "    .dataframe tbody tr th {\n",
       "        vertical-align: top;\n",
       "    }\n",
       "</style>\n",
       "<table border=\"1\" class=\"dataframe\">\n",
       "  <thead>\n",
       "    <tr style=\"text-align: right;\">\n",
       "      <th></th>\n",
       "      <th>Unnamed: 0</th>\n",
       "      <th>0</th>\n",
       "      <th>1</th>\n",
       "      <th>2</th>\n",
       "      <th>3</th>\n",
       "    </tr>\n",
       "  </thead>\n",
       "  <tbody>\n",
       "    <tr>\n",
       "      <th>0</th>\n",
       "      <td>0</td>\n",
       "      <td>2</td>\n",
       "      <td>5</td>\n",
       "      <td>7</td>\n",
       "      <td>infant</td>\n",
       "    </tr>\n",
       "    <tr>\n",
       "      <th>1</th>\n",
       "      <td>1</td>\n",
       "      <td>13</td>\n",
       "      <td>76</td>\n",
       "      <td>8</td>\n",
       "      <td>old</td>\n",
       "    </tr>\n",
       "    <tr>\n",
       "      <th>2</th>\n",
       "      <td>2</td>\n",
       "      <td>9</td>\n",
       "      <td>55</td>\n",
       "      <td>21</td>\n",
       "      <td>newborn</td>\n",
       "    </tr>\n",
       "    <tr>\n",
       "      <th>3</th>\n",
       "      <td>3</td>\n",
       "      <td>45</td>\n",
       "      <td>66</td>\n",
       "      <td>82</td>\n",
       "      <td>toddler</td>\n",
       "    </tr>\n",
       "  </tbody>\n",
       "</table>\n",
       "</div>"
      ],
      "text/plain": [
       "   Unnamed: 0   0   1   2        3\n",
       "0           0   2   5   7   infant\n",
       "1           1  13  76   8      old\n",
       "2           2   9  55  21  newborn\n",
       "3           3  45  66  82  toddler"
      ]
     },
     "execution_count": 15,
     "metadata": {},
     "output_type": "execute_result"
    }
   ],
   "source": [
    "#Read the new df\n",
    "first_df=pd.read_csv('first_df.csv')\n",
    "#View the content of df\n",
    "first_df"
   ]
  },
  {
   "cell_type": "markdown",
   "metadata": {},
   "source": [
    "## Write a file using other delimiter"
   ]
  },
  {
   "cell_type": "code",
   "execution_count": 16,
   "metadata": {},
   "outputs": [
    {
     "name": "stdout",
     "output_type": "stream",
     "text": [
      "_0_1_2_3\n",
      "0_2_5_7_infant\n",
      "1_13_76_8_old\n",
      "2_9_55_21_newborn\n",
      "3_45_66_82_toddler\n"
     ]
    }
   ],
   "source": [
    "#import sys\n",
    "import sys\n",
    "#write file using _ as seperator\n",
    "txt_df.to_csv(sys.stdout,sep=\"_\")"
   ]
  },
  {
   "cell_type": "code",
   "execution_count": 18,
   "metadata": {},
   "outputs": [
    {
     "name": "stdout",
     "output_type": "stream",
     "text": [
      "|0|1|2|3\n",
      "0|2|5|7|infant\n",
      "1|13|76|8|old\n",
      "2|9|55|21|newborn\n",
      "3|45|66|82|toddler\n"
     ]
    }
   ],
   "source": [
    "#write file using | as seperator\n",
    "txt_df.to_csv(sys.stdout,sep=\"|\")"
   ]
  },
  {
   "cell_type": "code",
   "execution_count": 20,
   "metadata": {},
   "outputs": [
    {
     "name": "stdout",
     "output_type": "stream",
     "text": [
      "|0|1|2\n",
      "0|2|5|7\n",
      "1|13|76|8\n",
      "2|9|55|21\n",
      "3|45|66|82\n"
     ]
    }
   ],
   "source": [
    "## Write only few columns of df\n",
    "txt_df.to_csv(sys.stdout,columns=[0,1,2],sep=\"|\")"
   ]
  },
  {
   "cell_type": "markdown",
   "metadata": {},
   "source": [
    "## Dealing with  JSON objects"
   ]
  },
  {
   "cell_type": "code",
   "execution_count": 32,
   "metadata": {},
   "outputs": [],
   "source": [
    "json_obj=\"\"\"\n",
    "{   \"name\":\"John\",\n",
    "    \"age\":30,\n",
    "    \"cars\": [\n",
    "        { \"name\":\"Ford\", \"models\":[ \"Fiesta\", \"Focus\", \"Mustang\" ] },\n",
    "        { \"name\":\"BMW\", \"models\":[ \"320\", \"X3\", \"X5\" ] },\n",
    "        { \"name\":\"Fiat\", \"models\":[ \"500\", \"Panda\" ] }\n",
    "    ]\n",
    " }\n",
    " \"\"\""
   ]
  },
  {
   "cell_type": "code",
   "execution_count": 33,
   "metadata": {
    "collapsed": true
   },
   "outputs": [],
   "source": [
    "import json"
   ]
  },
  {
   "cell_type": "code",
   "execution_count": 34,
   "metadata": {},
   "outputs": [],
   "source": [
    "#Read the json object using loads function\n",
    "json_df=json.loads(json_obj)"
   ]
  },
  {
   "cell_type": "code",
   "execution_count": 35,
   "metadata": {},
   "outputs": [
    {
     "data": {
      "text/plain": [
       "{u'age': 30,\n",
       " u'cars': [{u'models': [u'Fiesta', u'Focus', u'Mustang'], u'name': u'Ford'},\n",
       "  {u'models': [u'320', u'X3', u'X5'], u'name': u'BMW'},\n",
       "  {u'models': [u'500', u'Panda'], u'name': u'Fiat'}],\n",
       " u'name': u'John'}"
      ]
     },
     "execution_count": 35,
     "metadata": {},
     "output_type": "execute_result"
    }
   ],
   "source": [
    "#View the new df\n",
    "json_df"
   ]
  },
  {
   "cell_type": "code",
   "execution_count": 36,
   "metadata": {},
   "outputs": [
    {
     "data": {
      "text/plain": [
       "'{\"cars\": [{\"models\": [\"Fiesta\", \"Focus\", \"Mustang\"], \"name\": \"Ford\"}, {\"models\": [\"320\", \"X3\", \"X5\"], \"name\": \"BMW\"}, {\"models\": [\"500\", \"Panda\"], \"name\": \"Fiat\"}], \"age\": 30, \"name\": \"John\"}'"
      ]
     },
     "execution_count": 36,
     "metadata": {},
     "output_type": "execute_result"
    }
   ],
   "source": [
    "#Convert back to json object\n",
    "json.dumps(json_df)"
   ]
  },
  {
   "cell_type": "code",
   "execution_count": 37,
   "metadata": {
    "collapsed": true
   },
   "outputs": [],
   "source": [
    "# create dataframe from section of json object\n",
    "df_json_obj=pd.DataFrame(json_df['cars'])"
   ]
  },
  {
   "cell_type": "code",
   "execution_count": 38,
   "metadata": {},
   "outputs": [
    {
     "data": {
      "text/html": [
       "<div>\n",
       "<style>\n",
       "    .dataframe thead tr:only-child th {\n",
       "        text-align: right;\n",
       "    }\n",
       "\n",
       "    .dataframe thead th {\n",
       "        text-align: left;\n",
       "    }\n",
       "\n",
       "    .dataframe tbody tr th {\n",
       "        vertical-align: top;\n",
       "    }\n",
       "</style>\n",
       "<table border=\"1\" class=\"dataframe\">\n",
       "  <thead>\n",
       "    <tr style=\"text-align: right;\">\n",
       "      <th></th>\n",
       "      <th>models</th>\n",
       "      <th>name</th>\n",
       "    </tr>\n",
       "  </thead>\n",
       "  <tbody>\n",
       "    <tr>\n",
       "      <th>0</th>\n",
       "      <td>[Fiesta, Focus, Mustang]</td>\n",
       "      <td>Ford</td>\n",
       "    </tr>\n",
       "    <tr>\n",
       "      <th>1</th>\n",
       "      <td>[320, X3, X5]</td>\n",
       "      <td>BMW</td>\n",
       "    </tr>\n",
       "    <tr>\n",
       "      <th>2</th>\n",
       "      <td>[500, Panda]</td>\n",
       "      <td>Fiat</td>\n",
       "    </tr>\n",
       "  </tbody>\n",
       "</table>\n",
       "</div>"
      ],
      "text/plain": [
       "                     models  name\n",
       "0  [Fiesta, Focus, Mustang]  Ford\n",
       "1             [320, X3, X5]   BMW\n",
       "2              [500, Panda]  Fiat"
      ]
     },
     "execution_count": 38,
     "metadata": {},
     "output_type": "execute_result"
    }
   ],
   "source": [
    "#view the new df\n",
    "df_json_obj"
   ]
  },
  {
   "cell_type": "markdown",
   "metadata": {},
   "source": [
    "## Dealing with HTML "
   ]
  },
  {
   "cell_type": "code",
   "execution_count": 16,
   "metadata": {},
   "outputs": [
    {
     "name": "stdout",
     "output_type": "stream",
     "text": [
      "Requirement already satisfied: lxml in /opt/conda/lib/python3.6/site-packages\r\n"
     ]
    }
   ],
   "source": [
    "from pandas import read_html\n",
    "!pip install lxml\n",
    "import lxml\n",
    "#!pip install beautifulsoup\n",
    "#!pip install html5lib"
   ]
  },
  {
   "cell_type": "code",
   "execution_count": 17,
   "metadata": {},
   "outputs": [],
   "source": [
    "url='http://stats.espncricinfo.com/ci/content/records/210099.html'"
   ]
  },
  {
   "cell_type": "code",
   "execution_count": 19,
   "metadata": {},
   "outputs": [],
   "source": [
    "#create a list of df objects  using read_html  \n",
    "url_df=pd.io.html.read_html(url,flavor='html5lib')"
   ]
  },
  {
   "cell_type": "code",
   "execution_count": 20,
   "metadata": {},
   "outputs": [
    {
     "data": {
      "text/html": [
       "<div>\n",
       "<table border=\"1\" class=\"dataframe\">\n",
       "  <thead>\n",
       "    <tr style=\"text-align: right;\">\n",
       "      <th></th>\n",
       "      <th>Winner</th>\n",
       "      <th>Margin</th>\n",
       "      <th>Opposition</th>\n",
       "      <th>Ground</th>\n",
       "      <th>Match Date</th>\n",
       "      <th>Scorecard</th>\n",
       "    </tr>\n",
       "  </thead>\n",
       "  <tbody>\n",
       "    <tr>\n",
       "      <th>0</th>\n",
       "      <td>England</td>\n",
       "      <td>inns &amp; 579 runs</td>\n",
       "      <td>v Australia</td>\n",
       "      <td>The Oval</td>\n",
       "      <td>20 Aug 1938</td>\n",
       "      <td>Test # 266</td>\n",
       "    </tr>\n",
       "    <tr>\n",
       "      <th>1</th>\n",
       "      <td>Australia</td>\n",
       "      <td>inns &amp; 360 runs</td>\n",
       "      <td>v South Africa</td>\n",
       "      <td>Johannesburg</td>\n",
       "      <td>22 Feb 2002</td>\n",
       "      <td>Test # 1590</td>\n",
       "    </tr>\n",
       "    <tr>\n",
       "      <th>2</th>\n",
       "      <td>West Indies</td>\n",
       "      <td>inns &amp; 336 runs</td>\n",
       "      <td>v India</td>\n",
       "      <td>Kolkata</td>\n",
       "      <td>31 Dec 1958</td>\n",
       "      <td>Test # 463</td>\n",
       "    </tr>\n",
       "    <tr>\n",
       "      <th>3</th>\n",
       "      <td>Australia</td>\n",
       "      <td>inns &amp; 332 runs</td>\n",
       "      <td>v England</td>\n",
       "      <td>Brisbane</td>\n",
       "      <td>29 Nov 1946</td>\n",
       "      <td>Test # 279</td>\n",
       "    </tr>\n",
       "    <tr>\n",
       "      <th>4</th>\n",
       "      <td>Pakistan</td>\n",
       "      <td>inns &amp; 324 runs</td>\n",
       "      <td>v New Zealand</td>\n",
       "      <td>Lahore</td>\n",
       "      <td>1 May 2002</td>\n",
       "      <td>Test # 1600</td>\n",
       "    </tr>\n",
       "    <tr>\n",
       "      <th>5</th>\n",
       "      <td>West Indies</td>\n",
       "      <td>inns &amp; 322 runs</td>\n",
       "      <td>v New Zealand</td>\n",
       "      <td>Wellington</td>\n",
       "      <td>10 Feb 1995</td>\n",
       "      <td>Test # 1289</td>\n",
       "    </tr>\n",
       "    <tr>\n",
       "      <th>6</th>\n",
       "      <td>West Indies</td>\n",
       "      <td>inns &amp; 310 runs</td>\n",
       "      <td>v Bangladesh</td>\n",
       "      <td>Dhaka</td>\n",
       "      <td>8 Dec 2002</td>\n",
       "      <td>Test # 1630</td>\n",
       "    </tr>\n",
       "    <tr>\n",
       "      <th>7</th>\n",
       "      <td>New Zealand</td>\n",
       "      <td>inns &amp; 301 runs</td>\n",
       "      <td>v Zimbabwe</td>\n",
       "      <td>Napier</td>\n",
       "      <td>26 Jan 2012</td>\n",
       "      <td>Test # 2033</td>\n",
       "    </tr>\n",
       "    <tr>\n",
       "      <th>8</th>\n",
       "      <td>New Zealand</td>\n",
       "      <td>inns &amp; 294 runs</td>\n",
       "      <td>v Zimbabwe</td>\n",
       "      <td>Harare</td>\n",
       "      <td>7 Aug 2005</td>\n",
       "      <td>Test # 1759</td>\n",
       "    </tr>\n",
       "    <tr>\n",
       "      <th>9</th>\n",
       "      <td>England</td>\n",
       "      <td>inns &amp; 285 runs</td>\n",
       "      <td>v India</td>\n",
       "      <td>Lord's</td>\n",
       "      <td>20 Jun 1974</td>\n",
       "      <td>Test # 740</td>\n",
       "    </tr>\n",
       "    <tr>\n",
       "      <th>10</th>\n",
       "      <td>England</td>\n",
       "      <td>inns &amp; 283 runs</td>\n",
       "      <td>v West Indies</td>\n",
       "      <td>Leeds</td>\n",
       "      <td>25 May 2007</td>\n",
       "      <td>Test # 1834</td>\n",
       "    </tr>\n",
       "    <tr>\n",
       "      <th>11</th>\n",
       "      <td>Pakistan</td>\n",
       "      <td>inns &amp; 264 runs</td>\n",
       "      <td>v Bangladesh</td>\n",
       "      <td>Multan</td>\n",
       "      <td>29 Aug 2001</td>\n",
       "      <td>Test # 1560</td>\n",
       "    </tr>\n",
       "    <tr>\n",
       "      <th>12</th>\n",
       "      <td>England</td>\n",
       "      <td>inns &amp; 261 runs</td>\n",
       "      <td>v Bangladesh</td>\n",
       "      <td>Lord's</td>\n",
       "      <td>26 May 2005</td>\n",
       "      <td>Test # 1751</td>\n",
       "    </tr>\n",
       "    <tr>\n",
       "      <th>13</th>\n",
       "      <td>Australia</td>\n",
       "      <td>inns &amp; 259 runs</td>\n",
       "      <td>v South Africa</td>\n",
       "      <td>Port Elizabeth</td>\n",
       "      <td>3 Mar 1950</td>\n",
       "      <td>Test # 322</td>\n",
       "    </tr>\n",
       "    <tr>\n",
       "      <th>14</th>\n",
       "      <td>Sri Lanka</td>\n",
       "      <td>inns &amp; 254 runs</td>\n",
       "      <td>v Zimbabwe</td>\n",
       "      <td>Bulawayo</td>\n",
       "      <td>14 May 2004</td>\n",
       "      <td>Test # 1699</td>\n",
       "    </tr>\n",
       "    <tr>\n",
       "      <th>15</th>\n",
       "      <td>South Africa</td>\n",
       "      <td>inns &amp; 254 runs</td>\n",
       "      <td>v Bangladesh</td>\n",
       "      <td>Bloemfontein</td>\n",
       "      <td>6 Oct 2017</td>\n",
       "      <td>Test # 2277</td>\n",
       "    </tr>\n",
       "    <tr>\n",
       "      <th>16</th>\n",
       "      <td>Sri Lanka</td>\n",
       "      <td>inns &amp; 248 runs</td>\n",
       "      <td>v Bangladesh</td>\n",
       "      <td>Dhaka</td>\n",
       "      <td>27 Jan 2014</td>\n",
       "      <td>Test # 2116</td>\n",
       "    </tr>\n",
       "    <tr>\n",
       "      <th>17</th>\n",
       "      <td>England</td>\n",
       "      <td>inns &amp; 244 runs</td>\n",
       "      <td>v India</td>\n",
       "      <td>The Oval</td>\n",
       "      <td>15 Aug 2014</td>\n",
       "      <td>Test # 2137</td>\n",
       "    </tr>\n",
       "    <tr>\n",
       "      <th>18</th>\n",
       "      <td>England</td>\n",
       "      <td>inns &amp; 242 runs</td>\n",
       "      <td>v India</td>\n",
       "      <td>Birmingham</td>\n",
       "      <td>10 Aug 2011</td>\n",
       "      <td>Test # 2003</td>\n",
       "    </tr>\n",
       "    <tr>\n",
       "      <th>19</th>\n",
       "      <td>Sri Lanka</td>\n",
       "      <td>inns &amp; 240 runs</td>\n",
       "      <td>v Zimbabwe</td>\n",
       "      <td>Harare</td>\n",
       "      <td>6 May 2004</td>\n",
       "      <td>Test # 1698</td>\n",
       "    </tr>\n",
       "    <tr>\n",
       "      <th>20</th>\n",
       "      <td>India</td>\n",
       "      <td>inns &amp; 239 runs</td>\n",
       "      <td>v Bangladesh</td>\n",
       "      <td>Dhaka</td>\n",
       "      <td>25 May 2007</td>\n",
       "      <td>Test # 1833</td>\n",
       "    </tr>\n",
       "    <tr>\n",
       "      <th>21</th>\n",
       "      <td>Sri Lanka</td>\n",
       "      <td>inns &amp; 239 runs</td>\n",
       "      <td>v India</td>\n",
       "      <td>Colombo (SSC)</td>\n",
       "      <td>23 Jul 2008</td>\n",
       "      <td>Test # 1882</td>\n",
       "    </tr>\n",
       "    <tr>\n",
       "      <th>22</th>\n",
       "      <td>India</td>\n",
       "      <td>inns &amp; 239 runs</td>\n",
       "      <td>v Sri Lanka</td>\n",
       "      <td>Nagpur</td>\n",
       "      <td>24 Nov 2017</td>\n",
       "      <td>Test # 2283</td>\n",
       "    </tr>\n",
       "    <tr>\n",
       "      <th>23</th>\n",
       "      <td>England</td>\n",
       "      <td>inns &amp; 237 runs</td>\n",
       "      <td>v West Indies</td>\n",
       "      <td>The Oval</td>\n",
       "      <td>22 Aug 1957</td>\n",
       "      <td>Test # 443</td>\n",
       "    </tr>\n",
       "    <tr>\n",
       "      <th>24</th>\n",
       "      <td>Sri Lanka</td>\n",
       "      <td>inns &amp; 234 runs</td>\n",
       "      <td>v Bangladesh</td>\n",
       "      <td>Colombo (SSC)</td>\n",
       "      <td>25 Jun 2007</td>\n",
       "      <td>Test # 1837</td>\n",
       "    </tr>\n",
       "    <tr>\n",
       "      <th>25</th>\n",
       "      <td>England</td>\n",
       "      <td>inns &amp; 230 runs</td>\n",
       "      <td>v Australia</td>\n",
       "      <td>Adelaide</td>\n",
       "      <td>24 Mar 1892</td>\n",
       "      <td>Test # 38</td>\n",
       "    </tr>\n",
       "    <tr>\n",
       "      <th>26</th>\n",
       "      <td>South Africa</td>\n",
       "      <td>inns &amp; 229 runs</td>\n",
       "      <td>v Sri Lanka</td>\n",
       "      <td>Cape Town</td>\n",
       "      <td>2 Jan 2001</td>\n",
       "      <td>Test # 1528</td>\n",
       "    </tr>\n",
       "    <tr>\n",
       "      <th>27</th>\n",
       "      <td>Australia</td>\n",
       "      <td>inns &amp; 226 runs</td>\n",
       "      <td>v India</td>\n",
       "      <td>Brisbane</td>\n",
       "      <td>28 Nov 1947</td>\n",
       "      <td>Test # 290</td>\n",
       "    </tr>\n",
       "    <tr>\n",
       "      <th>28</th>\n",
       "      <td>West Indies</td>\n",
       "      <td>inns &amp; 226 runs</td>\n",
       "      <td>v England</td>\n",
       "      <td>Lord's</td>\n",
       "      <td>23 Aug 1973</td>\n",
       "      <td>Test # 727</td>\n",
       "    </tr>\n",
       "    <tr>\n",
       "      <th>29</th>\n",
       "      <td>England</td>\n",
       "      <td>inns &amp; 225 runs</td>\n",
       "      <td>v Australia</td>\n",
       "      <td>Melbourne</td>\n",
       "      <td>9 Feb 1912</td>\n",
       "      <td>Test # 119</td>\n",
       "    </tr>\n",
       "    <tr>\n",
       "      <th>30</th>\n",
       "      <td>England</td>\n",
       "      <td>inns &amp; 225 runs</td>\n",
       "      <td>v Pakistan</td>\n",
       "      <td>Lord's</td>\n",
       "      <td>26 Aug 2010</td>\n",
       "      <td>Test # 1971</td>\n",
       "    </tr>\n",
       "    <tr>\n",
       "      <th>31</th>\n",
       "      <td>Australia</td>\n",
       "      <td>inns &amp; 222 runs</td>\n",
       "      <td>v New Zealand</td>\n",
       "      <td>Hobart</td>\n",
       "      <td>26 Nov 1993</td>\n",
       "      <td>Test # 1236</td>\n",
       "    </tr>\n",
       "    <tr>\n",
       "      <th>32</th>\n",
       "      <td>South Africa</td>\n",
       "      <td>inns &amp; 220 runs</td>\n",
       "      <td>v West Indies</td>\n",
       "      <td>Centurion</td>\n",
       "      <td>17 Dec 2014</td>\n",
       "      <td>Test # 2150</td>\n",
       "    </tr>\n",
       "    <tr>\n",
       "      <th>33</th>\n",
       "      <td>India</td>\n",
       "      <td>inns &amp; 219 runs</td>\n",
       "      <td>v Australia</td>\n",
       "      <td>Kolkata</td>\n",
       "      <td>18 Mar 1998</td>\n",
       "      <td>Test # 1409</td>\n",
       "    </tr>\n",
       "    <tr>\n",
       "      <th>34</th>\n",
       "      <td>South Africa</td>\n",
       "      <td>inns &amp; 219 runs</td>\n",
       "      <td>v Zimbabwe</td>\n",
       "      <td>Harare</td>\n",
       "      <td>11 Nov 1999</td>\n",
       "      <td>Test # 1468</td>\n",
       "    </tr>\n",
       "    <tr>\n",
       "      <th>35</th>\n",
       "      <td>England</td>\n",
       "      <td>inns &amp; 217 runs</td>\n",
       "      <td>v Australia</td>\n",
       "      <td>The Oval</td>\n",
       "      <td>12 Aug 1886</td>\n",
       "      <td>Test # 24</td>\n",
       "    </tr>\n",
       "    <tr>\n",
       "      <th>36</th>\n",
       "      <td>Australia</td>\n",
       "      <td>inns &amp; 217 runs</td>\n",
       "      <td>v West Indies</td>\n",
       "      <td>Brisbane</td>\n",
       "      <td>16 Jan 1931</td>\n",
       "      <td>Test # 203</td>\n",
       "    </tr>\n",
       "    <tr>\n",
       "      <th>37</th>\n",
       "      <td>England</td>\n",
       "      <td>inns &amp; 215 runs</td>\n",
       "      <td>v New Zealand</td>\n",
       "      <td>Auckland</td>\n",
       "      <td>23 Feb 1963</td>\n",
       "      <td>Test # 540</td>\n",
       "    </tr>\n",
       "    <tr>\n",
       "      <th>38</th>\n",
       "      <td>Sri Lanka</td>\n",
       "      <td>inns &amp; 215 runs</td>\n",
       "      <td>v England</td>\n",
       "      <td>Colombo (SSC)</td>\n",
       "      <td>18 Dec 2003</td>\n",
       "      <td>Test # 1675</td>\n",
       "    </tr>\n",
       "    <tr>\n",
       "      <th>39</th>\n",
       "      <td>Australia</td>\n",
       "      <td>inns &amp; 212 runs</td>\n",
       "      <td>v West Indies</td>\n",
       "      <td>Hobart</td>\n",
       "      <td>10 Dec 2015</td>\n",
       "      <td>Test # 2193</td>\n",
       "    </tr>\n",
       "    <tr>\n",
       "      <th>40</th>\n",
       "      <td>England</td>\n",
       "      <td>inns &amp; 209 runs</td>\n",
       "      <td>v Zimbabwe</td>\n",
       "      <td>Lord's</td>\n",
       "      <td>18 May 2000</td>\n",
       "      <td>Test # 1495</td>\n",
       "    </tr>\n",
       "    <tr>\n",
       "      <th>41</th>\n",
       "      <td>England</td>\n",
       "      <td>inns &amp; 209 runs</td>\n",
       "      <td>v West Indies</td>\n",
       "      <td>Birmingham</td>\n",
       "      <td>17 Aug 2017</td>\n",
       "      <td>Test # 2270</td>\n",
       "    </tr>\n",
       "    <tr>\n",
       "      <th>42</th>\n",
       "      <td>South Africa</td>\n",
       "      <td>inns &amp; 208 runs</td>\n",
       "      <td>v Sri Lanka</td>\n",
       "      <td>Colombo (SSC)</td>\n",
       "      <td>6 Sep 1993</td>\n",
       "      <td>Test # 1233</td>\n",
       "    </tr>\n",
       "    <tr>\n",
       "      <th>43</th>\n",
       "      <td>England</td>\n",
       "      <td>inns &amp; 207 runs</td>\n",
       "      <td>v India</td>\n",
       "      <td>Manchester</td>\n",
       "      <td>17 Jul 1952</td>\n",
       "      <td>Test # 353</td>\n",
       "    </tr>\n",
       "    <tr>\n",
       "      <th>44</th>\n",
       "      <td>South Africa</td>\n",
       "      <td>inns &amp; 205 runs</td>\n",
       "      <td>v Bangladesh</td>\n",
       "      <td>Chittagong</td>\n",
       "      <td>29 Feb 2008</td>\n",
       "      <td>Test # 1865</td>\n",
       "    </tr>\n",
       "    <tr>\n",
       "      <th>45</th>\n",
       "      <td>England</td>\n",
       "      <td>inns &amp; 202 runs</td>\n",
       "      <td>v South Africa</td>\n",
       "      <td>Cape Town</td>\n",
       "      <td>25 Mar 1889</td>\n",
       "      <td>Test # 32</td>\n",
       "    </tr>\n",
       "    <tr>\n",
       "      <th>46</th>\n",
       "      <td>Australia</td>\n",
       "      <td>inns &amp; 201 runs</td>\n",
       "      <td>v Sri Lanka</td>\n",
       "      <td>Melbourne</td>\n",
       "      <td>26 Dec 2012</td>\n",
       "      <td>Test # 2068</td>\n",
       "    </tr>\n",
       "    <tr>\n",
       "      <th>47</th>\n",
       "      <td>Australia</td>\n",
       "      <td>inns &amp; 200 runs</td>\n",
       "      <td>v England</td>\n",
       "      <td>Melbourne</td>\n",
       "      <td>26 Feb 1937</td>\n",
       "      <td>Test # 259</td>\n",
       "    </tr>\n",
       "  </tbody>\n",
       "</table>\n",
       "</div>"
      ],
      "text/plain": [
       "          Winner           Margin      Opposition          Ground  \\\n",
       "0        England  inns & 579 runs     v Australia        The Oval   \n",
       "1      Australia  inns & 360 runs  v South Africa    Johannesburg   \n",
       "2    West Indies  inns & 336 runs         v India         Kolkata   \n",
       "3      Australia  inns & 332 runs       v England        Brisbane   \n",
       "4       Pakistan  inns & 324 runs   v New Zealand          Lahore   \n",
       "5    West Indies  inns & 322 runs   v New Zealand      Wellington   \n",
       "6    West Indies  inns & 310 runs    v Bangladesh           Dhaka   \n",
       "7    New Zealand  inns & 301 runs      v Zimbabwe          Napier   \n",
       "8    New Zealand  inns & 294 runs      v Zimbabwe          Harare   \n",
       "9        England  inns & 285 runs         v India          Lord's   \n",
       "10       England  inns & 283 runs   v West Indies           Leeds   \n",
       "11      Pakistan  inns & 264 runs    v Bangladesh          Multan   \n",
       "12       England  inns & 261 runs    v Bangladesh          Lord's   \n",
       "13     Australia  inns & 259 runs  v South Africa  Port Elizabeth   \n",
       "14     Sri Lanka  inns & 254 runs      v Zimbabwe        Bulawayo   \n",
       "15  South Africa  inns & 254 runs    v Bangladesh    Bloemfontein   \n",
       "16     Sri Lanka  inns & 248 runs    v Bangladesh           Dhaka   \n",
       "17       England  inns & 244 runs         v India        The Oval   \n",
       "18       England  inns & 242 runs         v India      Birmingham   \n",
       "19     Sri Lanka  inns & 240 runs      v Zimbabwe          Harare   \n",
       "20         India  inns & 239 runs    v Bangladesh           Dhaka   \n",
       "21     Sri Lanka  inns & 239 runs         v India   Colombo (SSC)   \n",
       "22         India  inns & 239 runs     v Sri Lanka          Nagpur   \n",
       "23       England  inns & 237 runs   v West Indies        The Oval   \n",
       "24     Sri Lanka  inns & 234 runs    v Bangladesh   Colombo (SSC)   \n",
       "25       England  inns & 230 runs     v Australia        Adelaide   \n",
       "26  South Africa  inns & 229 runs     v Sri Lanka       Cape Town   \n",
       "27     Australia  inns & 226 runs         v India        Brisbane   \n",
       "28   West Indies  inns & 226 runs       v England          Lord's   \n",
       "29       England  inns & 225 runs     v Australia       Melbourne   \n",
       "30       England  inns & 225 runs      v Pakistan          Lord's   \n",
       "31     Australia  inns & 222 runs   v New Zealand          Hobart   \n",
       "32  South Africa  inns & 220 runs   v West Indies       Centurion   \n",
       "33         India  inns & 219 runs     v Australia         Kolkata   \n",
       "34  South Africa  inns & 219 runs      v Zimbabwe          Harare   \n",
       "35       England  inns & 217 runs     v Australia        The Oval   \n",
       "36     Australia  inns & 217 runs   v West Indies        Brisbane   \n",
       "37       England  inns & 215 runs   v New Zealand        Auckland   \n",
       "38     Sri Lanka  inns & 215 runs       v England   Colombo (SSC)   \n",
       "39     Australia  inns & 212 runs   v West Indies          Hobart   \n",
       "40       England  inns & 209 runs      v Zimbabwe          Lord's   \n",
       "41       England  inns & 209 runs   v West Indies      Birmingham   \n",
       "42  South Africa  inns & 208 runs     v Sri Lanka   Colombo (SSC)   \n",
       "43       England  inns & 207 runs         v India      Manchester   \n",
       "44  South Africa  inns & 205 runs    v Bangladesh      Chittagong   \n",
       "45       England  inns & 202 runs  v South Africa       Cape Town   \n",
       "46     Australia  inns & 201 runs     v Sri Lanka       Melbourne   \n",
       "47     Australia  inns & 200 runs       v England       Melbourne   \n",
       "\n",
       "     Match Date    Scorecard  \n",
       "0   20 Aug 1938   Test # 266  \n",
       "1   22 Feb 2002  Test # 1590  \n",
       "2   31 Dec 1958   Test # 463  \n",
       "3   29 Nov 1946   Test # 279  \n",
       "4    1 May 2002  Test # 1600  \n",
       "5   10 Feb 1995  Test # 1289  \n",
       "6    8 Dec 2002  Test # 1630  \n",
       "7   26 Jan 2012  Test # 2033  \n",
       "8    7 Aug 2005  Test # 1759  \n",
       "9   20 Jun 1974   Test # 740  \n",
       "10  25 May 2007  Test # 1834  \n",
       "11  29 Aug 2001  Test # 1560  \n",
       "12  26 May 2005  Test # 1751  \n",
       "13   3 Mar 1950   Test # 322  \n",
       "14  14 May 2004  Test # 1699  \n",
       "15   6 Oct 2017  Test # 2277  \n",
       "16  27 Jan 2014  Test # 2116  \n",
       "17  15 Aug 2014  Test # 2137  \n",
       "18  10 Aug 2011  Test # 2003  \n",
       "19   6 May 2004  Test # 1698  \n",
       "20  25 May 2007  Test # 1833  \n",
       "21  23 Jul 2008  Test # 1882  \n",
       "22  24 Nov 2017  Test # 2283  \n",
       "23  22 Aug 1957   Test # 443  \n",
       "24  25 Jun 2007  Test # 1837  \n",
       "25  24 Mar 1892    Test # 38  \n",
       "26   2 Jan 2001  Test # 1528  \n",
       "27  28 Nov 1947   Test # 290  \n",
       "28  23 Aug 1973   Test # 727  \n",
       "29   9 Feb 1912   Test # 119  \n",
       "30  26 Aug 2010  Test # 1971  \n",
       "31  26 Nov 1993  Test # 1236  \n",
       "32  17 Dec 2014  Test # 2150  \n",
       "33  18 Mar 1998  Test # 1409  \n",
       "34  11 Nov 1999  Test # 1468  \n",
       "35  12 Aug 1886    Test # 24  \n",
       "36  16 Jan 1931   Test # 203  \n",
       "37  23 Feb 1963   Test # 540  \n",
       "38  18 Dec 2003  Test # 1675  \n",
       "39  10 Dec 2015  Test # 2193  \n",
       "40  18 May 2000  Test # 1495  \n",
       "41  17 Aug 2017  Test # 2270  \n",
       "42   6 Sep 1993  Test # 1233  \n",
       "43  17 Jul 1952   Test # 353  \n",
       "44  29 Feb 2008  Test # 1865  \n",
       "45  25 Mar 1889    Test # 32  \n",
       "46  26 Dec 2012  Test # 2068  \n",
       "47  26 Feb 1937   Test # 259  "
      ]
     },
     "execution_count": 20,
     "metadata": {},
     "output_type": "execute_result"
    }
   ],
   "source": [
    "#Pick first object from list of dataframe objects\n",
    "final_url_df=url_df[0]\n",
    "final_url_df"
   ]
  },
  {
   "cell_type": "markdown",
   "metadata": {},
   "source": [
    "## Dataframe operations on new df"
   ]
  },
  {
   "cell_type": "code",
   "execution_count": 59,
   "metadata": {},
   "outputs": [
    {
     "data": {
      "text/plain": [
       "array([u'Winner', u'Margin', u'Opposition', u'Ground', u'Match Date',\n",
       "       u'Scorecard'], dtype=object)"
      ]
     },
     "execution_count": 59,
     "metadata": {},
     "output_type": "execute_result"
    }
   ],
   "source": [
    "#View the columns of df\n",
    "final_url_df.columns"
   ]
  },
  {
   "cell_type": "code",
   "execution_count": 60,
   "metadata": {},
   "outputs": [
    {
     "data": {
      "text/plain": [
       "(48, 6)"
      ]
     },
     "execution_count": 60,
     "metadata": {},
     "output_type": "execute_result"
    }
   ],
   "source": [
    "#Validate number of rows & columns\n",
    "final_url_df.shape"
   ]
  },
  {
   "cell_type": "code",
   "execution_count": 61,
   "metadata": {},
   "outputs": [
    {
     "data": {
      "text/html": [
       "<div>\n",
       "<style>\n",
       "    .dataframe thead tr:only-child th {\n",
       "        text-align: right;\n",
       "    }\n",
       "\n",
       "    .dataframe thead th {\n",
       "        text-align: left;\n",
       "    }\n",
       "\n",
       "    .dataframe tbody tr th {\n",
       "        vertical-align: top;\n",
       "    }\n",
       "</style>\n",
       "<table border=\"1\" class=\"dataframe\">\n",
       "  <thead>\n",
       "    <tr style=\"text-align: right;\">\n",
       "      <th></th>\n",
       "      <th>Winner</th>\n",
       "      <th>Margin</th>\n",
       "      <th>Opposition</th>\n",
       "      <th>Ground</th>\n",
       "      <th>Match Date</th>\n",
       "      <th>Scorecard</th>\n",
       "    </tr>\n",
       "  </thead>\n",
       "  <tbody>\n",
       "    <tr>\n",
       "      <th>0</th>\n",
       "      <td>England</td>\n",
       "      <td>inns &amp; 579 runs</td>\n",
       "      <td>v Australia</td>\n",
       "      <td>The Oval</td>\n",
       "      <td>20 Aug 1938</td>\n",
       "      <td>Test # 266</td>\n",
       "    </tr>\n",
       "    <tr>\n",
       "      <th>1</th>\n",
       "      <td>Australia</td>\n",
       "      <td>inns &amp; 360 runs</td>\n",
       "      <td>v South Africa</td>\n",
       "      <td>Johannesburg</td>\n",
       "      <td>22 Feb 2002</td>\n",
       "      <td>Test # 1590</td>\n",
       "    </tr>\n",
       "    <tr>\n",
       "      <th>2</th>\n",
       "      <td>West Indies</td>\n",
       "      <td>inns &amp; 336 runs</td>\n",
       "      <td>v India</td>\n",
       "      <td>Kolkata</td>\n",
       "      <td>31 Dec 1958</td>\n",
       "      <td>Test # 463</td>\n",
       "    </tr>\n",
       "  </tbody>\n",
       "</table>\n",
       "</div>"
      ],
      "text/plain": [
       "        Winner           Margin      Opposition        Ground   Match Date  \\\n",
       "0      England  inns & 579 runs     v Australia      The Oval  20 Aug 1938   \n",
       "1    Australia  inns & 360 runs  v South Africa  Johannesburg  22 Feb 2002   \n",
       "2  West Indies  inns & 336 runs         v India       Kolkata  31 Dec 1958   \n",
       "\n",
       "     Scorecard  \n",
       "0   Test # 266  \n",
       "1  Test # 1590  \n",
       "2   Test # 463  "
      ]
     },
     "execution_count": 61,
     "metadata": {},
     "output_type": "execute_result"
    }
   ],
   "source": [
    "#Top rows of df\n",
    "final_url_df.head(3)"
   ]
  },
  {
   "cell_type": "markdown",
   "metadata": {},
   "source": [
    "## Dealing with excel files"
   ]
  },
  {
   "cell_type": "code",
   "execution_count": 70,
   "metadata": {
    "collapsed": true
   },
   "outputs": [],
   "source": [
    "#!pip install xlrd\n",
    "#!pip install openpyxl\n"
   ]
  },
  {
   "cell_type": "code",
   "execution_count": 72,
   "metadata": {},
   "outputs": [],
   "source": [
    "#create excel object\n",
    "xl_file=pd.ExcelFile('sample_xl.xlsx')\n",
    "#create dataframe using sheet from object\n",
    "df_xl=xl_file.parse('Sheet1')"
   ]
  },
  {
   "cell_type": "code",
   "execution_count": 73,
   "metadata": {},
   "outputs": [
    {
     "data": {
      "text/html": [
       "<div>\n",
       "<style>\n",
       "    .dataframe thead tr:only-child th {\n",
       "        text-align: right;\n",
       "    }\n",
       "\n",
       "    .dataframe thead th {\n",
       "        text-align: left;\n",
       "    }\n",
       "\n",
       "    .dataframe tbody tr th {\n",
       "        vertical-align: top;\n",
       "    }\n",
       "</style>\n",
       "<table border=\"1\" class=\"dataframe\">\n",
       "  <thead>\n",
       "    <tr style=\"text-align: right;\">\n",
       "      <th></th>\n",
       "      <th>test</th>\n",
       "      <th>col1</th>\n",
       "      <th>col2</th>\n",
       "      <th>col3</th>\n",
       "    </tr>\n",
       "  </thead>\n",
       "  <tbody>\n",
       "    <tr>\n",
       "      <th>0</th>\n",
       "      <td>1</td>\n",
       "      <td>3</td>\n",
       "      <td>55</td>\n",
       "      <td>10</td>\n",
       "    </tr>\n",
       "    <tr>\n",
       "      <th>1</th>\n",
       "      <td>2</td>\n",
       "      <td>4</td>\n",
       "      <td>66</td>\n",
       "      <td>20</td>\n",
       "    </tr>\n",
       "    <tr>\n",
       "      <th>2</th>\n",
       "      <td>3</td>\n",
       "      <td>5</td>\n",
       "      <td>7</td>\n",
       "      <td>30</td>\n",
       "    </tr>\n",
       "  </tbody>\n",
       "</table>\n",
       "</div>"
      ],
      "text/plain": [
       "   test  col1  col2  col3\n",
       "0     1     3    55    10\n",
       "1     2     4    66    20\n",
       "2     3     5     7    30"
      ]
     },
     "execution_count": 73,
     "metadata": {},
     "output_type": "execute_result"
    }
   ],
   "source": [
    "#View the dataframe\n",
    "df_xl"
   ]
  },
  {
   "cell_type": "markdown",
   "metadata": {},
   "source": [
    "# Kool :) "
   ]
  },
  {
   "cell_type": "code",
   "execution_count": null,
   "metadata": {
    "collapsed": true
   },
   "outputs": [],
   "source": []
  }
 ],
 "metadata": {
  "kernelspec": {
   "display_name": "Python 3",
   "language": "python",
   "name": "python3"
  },
  "language_info": {
   "codemirror_mode": {
    "name": "ipython",
    "version": 3
   },
   "file_extension": ".py",
   "mimetype": "text/x-python",
   "name": "python",
   "nbconvert_exporter": "python",
   "pygments_lexer": "ipython3",
   "version": "3.6.3"
  }
 },
 "nbformat": 4,
 "nbformat_minor": 2
}
