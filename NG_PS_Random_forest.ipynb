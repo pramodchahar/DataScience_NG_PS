{
 "cells": [
  {
   "cell_type": "markdown",
   "metadata": {},
   "source": [
    "# Random Forest"
   ]
  },
  {
   "cell_type": "markdown",
   "metadata": {},
   "source": [
    "Random forests  good classification performance, scalability, and ease of use"
   ]
  },
  {
   "cell_type": "markdown",
   "metadata": {},
   "source": [
    "The idea behind a random forest is to average multiple (deep) decision trees to build a more robust model that has a better generalization performance and is less susceptible to overfitting"
   ]
  },
  {
   "cell_type": "markdown",
   "metadata": {},
   "source": [
    "## Steps to build Random Forest "
   ]
  },
  {
   "cell_type": "markdown",
   "metadata": {},
   "source": [
    "* Draw a random bootstrap sample of size n (randomly choose n samples from the training set with replacement)\n",
    "\n",
    "* Grow a decision tree from the bootstrap sample. At each node:\n",
    "    * Randomly select d features without replacement\n",
    "    * Split the node using the feature that provides the best split according to the objective function, for instance, maximizing the information gain\n",
    "    \n",
    "\n",
    "* Repeat the steps 1-2 k times\n",
    "\n",
    "* Aggregate the prediction by each tree to assign the class label by majority vote\n",
    "    "
   ]
  },
  {
   "cell_type": "markdown",
   "metadata": {},
   "source": [
    "Although random forests don't offer the same level of interpretability as decision trees, a big advantage of random forests is the higher amount of accuracy"
   ]
  },
  {
   "cell_type": "code",
   "execution_count": 1,
   "metadata": {},
   "outputs": [],
   "source": [
    "## Import Libraries\n",
    "import numpy as np\n",
    "import pandas as pd\n",
    "import matplotlib.pyplot as plt\n",
    "%matplotlib inline"
   ]
  },
  {
   "cell_type": "markdown",
   "metadata": {},
   "source": [
    "### Load Data "
   ]
  },
  {
   "cell_type": "code",
   "execution_count": 2,
   "metadata": {},
   "outputs": [],
   "source": [
    "df=pd.read_csv('Fraud_Data.csv')"
   ]
  },
  {
   "cell_type": "code",
   "execution_count": 3,
   "metadata": {},
   "outputs": [
    {
     "data": {
      "text/plain": [
       "(151112, 10)"
      ]
     },
     "execution_count": 3,
     "metadata": {},
     "output_type": "execute_result"
    }
   ],
   "source": [
    "df.shape"
   ]
  },
  {
   "cell_type": "code",
   "execution_count": 4,
   "metadata": {},
   "outputs": [
    {
     "data": {
      "text/html": [
       "<div>\n",
       "<table border=\"1\" class=\"dataframe\">\n",
       "  <thead>\n",
       "    <tr style=\"text-align: right;\">\n",
       "      <th></th>\n",
       "      <th>user_id</th>\n",
       "      <th>signup_time</th>\n",
       "      <th>purchase_time</th>\n",
       "      <th>purchase_value</th>\n",
       "      <th>device_id</th>\n",
       "      <th>source</th>\n",
       "      <th>browser</th>\n",
       "      <th>sex</th>\n",
       "      <th>age</th>\n",
       "      <th>class</th>\n",
       "    </tr>\n",
       "  </thead>\n",
       "  <tbody>\n",
       "    <tr>\n",
       "      <th>0</th>\n",
       "      <td>22058</td>\n",
       "      <td>2/24/15 22:55</td>\n",
       "      <td>4/18/15 2:47</td>\n",
       "      <td>34</td>\n",
       "      <td>QVPSPJUOCKZAR</td>\n",
       "      <td>SEO</td>\n",
       "      <td>Chrome</td>\n",
       "      <td>M</td>\n",
       "      <td>39</td>\n",
       "      <td>0</td>\n",
       "    </tr>\n",
       "    <tr>\n",
       "      <th>1</th>\n",
       "      <td>333320</td>\n",
       "      <td>6/7/15 20:39</td>\n",
       "      <td>6/8/15 1:38</td>\n",
       "      <td>16</td>\n",
       "      <td>EOGFQPIZPYXFZ</td>\n",
       "      <td>Ads</td>\n",
       "      <td>Chrome</td>\n",
       "      <td>F</td>\n",
       "      <td>53</td>\n",
       "      <td>0</td>\n",
       "    </tr>\n",
       "    <tr>\n",
       "      <th>2</th>\n",
       "      <td>1359</td>\n",
       "      <td>1/1/15 18:52</td>\n",
       "      <td>1/1/15 18:52</td>\n",
       "      <td>15</td>\n",
       "      <td>YSSKYOSJHPPLJ</td>\n",
       "      <td>SEO</td>\n",
       "      <td>Opera</td>\n",
       "      <td>M</td>\n",
       "      <td>53</td>\n",
       "      <td>1</td>\n",
       "    </tr>\n",
       "  </tbody>\n",
       "</table>\n",
       "</div>"
      ],
      "text/plain": [
       "   user_id    signup_time purchase_time  purchase_value      device_id source  \\\n",
       "0    22058  2/24/15 22:55  4/18/15 2:47              34  QVPSPJUOCKZAR    SEO   \n",
       "1   333320   6/7/15 20:39   6/8/15 1:38              16  EOGFQPIZPYXFZ    Ads   \n",
       "2     1359   1/1/15 18:52  1/1/15 18:52              15  YSSKYOSJHPPLJ    SEO   \n",
       "\n",
       "  browser sex  age  class  \n",
       "0  Chrome   M   39      0  \n",
       "1  Chrome   F   53      0  \n",
       "2   Opera   M   53      1  "
      ]
     },
     "execution_count": 4,
     "metadata": {},
     "output_type": "execute_result"
    }
   ],
   "source": [
    "df.head(3)"
   ]
  },
  {
   "cell_type": "code",
   "execution_count": 5,
   "metadata": {},
   "outputs": [
    {
     "name": "stdout",
     "output_type": "stream",
     "text": [
      "<class 'pandas.core.frame.DataFrame'>\n",
      "RangeIndex: 151112 entries, 0 to 151111\n",
      "Data columns (total 10 columns):\n",
      "user_id           151112 non-null int64\n",
      "signup_time       151112 non-null object\n",
      "purchase_time     151112 non-null object\n",
      "purchase_value    151112 non-null int64\n",
      "device_id         151112 non-null object\n",
      "source            151112 non-null object\n",
      "browser           151112 non-null object\n",
      "sex               151112 non-null object\n",
      "age               151112 non-null int64\n",
      "class             151112 non-null int64\n",
      "dtypes: int64(4), object(6)\n",
      "memory usage: 11.5+ MB\n"
     ]
    }
   ],
   "source": [
    "df.info()"
   ]
  },
  {
   "cell_type": "markdown",
   "metadata": {},
   "source": [
    "## EDA "
   ]
  },
  {
   "cell_type": "code",
   "execution_count": 6,
   "metadata": {},
   "outputs": [
    {
     "data": {
      "text/plain": [
       "151112"
      ]
     },
     "execution_count": 6,
     "metadata": {},
     "output_type": "execute_result"
    }
   ],
   "source": [
    "#confirm if we have multiple records for any user id\n",
    "len(df.user_id.unique())"
   ]
  },
  {
   "cell_type": "code",
   "execution_count": 7,
   "metadata": {},
   "outputs": [
    {
     "data": {
      "text/plain": [
       "0    136961\n",
       "1     14151\n",
       "Name: class, dtype: int64"
      ]
     },
     "execution_count": 7,
     "metadata": {},
     "output_type": "execute_result"
    }
   ],
   "source": [
    "#check for class skewness\n",
    "df['class'].value_counts()"
   ]
  },
  {
   "cell_type": "code",
   "execution_count": 8,
   "metadata": {},
   "outputs": [
    {
     "data": {
      "text/html": [
       "<div>\n",
       "<table border=\"1\" class=\"dataframe\">\n",
       "  <thead>\n",
       "    <tr style=\"text-align: right;\">\n",
       "      <th></th>\n",
       "      <th>user_id</th>\n",
       "      <th>purchase_value</th>\n",
       "      <th>age</th>\n",
       "    </tr>\n",
       "    <tr>\n",
       "      <th>class</th>\n",
       "      <th></th>\n",
       "      <th></th>\n",
       "      <th></th>\n",
       "    </tr>\n",
       "  </thead>\n",
       "  <tbody>\n",
       "    <tr>\n",
       "      <th>0</th>\n",
       "      <td>200098.920123</td>\n",
       "      <td>36.929418</td>\n",
       "      <td>33.122356</td>\n",
       "    </tr>\n",
       "    <tr>\n",
       "      <th>1</th>\n",
       "      <td>200869.065366</td>\n",
       "      <td>36.993004</td>\n",
       "      <td>33.318281</td>\n",
       "    </tr>\n",
       "  </tbody>\n",
       "</table>\n",
       "</div>"
      ],
      "text/plain": [
       "             user_id  purchase_value        age\n",
       "class                                          \n",
       "0      200098.920123       36.929418  33.122356\n",
       "1      200869.065366       36.993004  33.318281"
      ]
     },
     "execution_count": 8,
     "metadata": {},
     "output_type": "execute_result"
    }
   ],
   "source": [
    "#groupby fraud class\n",
    "df.groupby('class').mean()"
   ]
  },
  {
   "cell_type": "markdown",
   "metadata": {},
   "source": [
    "People who doing fraudulent transcations seems to be on higher side in terms of age"
   ]
  },
  {
   "cell_type": "code",
   "execution_count": 9,
   "metadata": {},
   "outputs": [
    {
     "data": {
      "text/html": [
       "<div>\n",
       "<table border=\"1\" class=\"dataframe\">\n",
       "  <thead>\n",
       "    <tr style=\"text-align: right;\">\n",
       "      <th></th>\n",
       "      <th>user_id</th>\n",
       "      <th>purchase_value</th>\n",
       "      <th>age</th>\n",
       "      <th>class</th>\n",
       "    </tr>\n",
       "    <tr>\n",
       "      <th>browser</th>\n",
       "      <th></th>\n",
       "      <th></th>\n",
       "      <th></th>\n",
       "      <th></th>\n",
       "    </tr>\n",
       "  </thead>\n",
       "  <tbody>\n",
       "    <tr>\n",
       "      <th>Chrome</th>\n",
       "      <td>200687.687248</td>\n",
       "      <td>37.031775</td>\n",
       "      <td>33.126921</td>\n",
       "      <td>0.098792</td>\n",
       "    </tr>\n",
       "    <tr>\n",
       "      <th>FireFox</th>\n",
       "      <td>200641.932466</td>\n",
       "      <td>36.846485</td>\n",
       "      <td>33.125640</td>\n",
       "      <td>0.095165</td>\n",
       "    </tr>\n",
       "    <tr>\n",
       "      <th>IE</th>\n",
       "      <td>199088.138890</td>\n",
       "      <td>36.815177</td>\n",
       "      <td>33.169467</td>\n",
       "      <td>0.086775</td>\n",
       "    </tr>\n",
       "    <tr>\n",
       "      <th>Opera</th>\n",
       "      <td>201405.358542</td>\n",
       "      <td>36.551959</td>\n",
       "      <td>32.679543</td>\n",
       "      <td>0.089227</td>\n",
       "    </tr>\n",
       "    <tr>\n",
       "      <th>Safari</th>\n",
       "      <td>199842.956460</td>\n",
       "      <td>37.020067</td>\n",
       "      <td>33.215957</td>\n",
       "      <td>0.090201</td>\n",
       "    </tr>\n",
       "  </tbody>\n",
       "</table>\n",
       "</div>"
      ],
      "text/plain": [
       "               user_id  purchase_value        age     class\n",
       "browser                                                    \n",
       "Chrome   200687.687248       37.031775  33.126921  0.098792\n",
       "FireFox  200641.932466       36.846485  33.125640  0.095165\n",
       "IE       199088.138890       36.815177  33.169467  0.086775\n",
       "Opera    201405.358542       36.551959  32.679543  0.089227\n",
       "Safari   199842.956460       37.020067  33.215957  0.090201"
      ]
     },
     "execution_count": 9,
     "metadata": {},
     "output_type": "execute_result"
    }
   ],
   "source": [
    "#groupby browser used\n",
    "df.groupby('browser').mean()"
   ]
  },
  {
   "cell_type": "markdown",
   "metadata": {},
   "source": [
    "People who doing fraudulent transcations seems to be using chrome more often"
   ]
  },
  {
   "cell_type": "code",
   "execution_count": 10,
   "metadata": {},
   "outputs": [
    {
     "data": {
      "text/html": [
       "<div>\n",
       "<table border=\"1\" class=\"dataframe\">\n",
       "  <thead>\n",
       "    <tr style=\"text-align: right;\">\n",
       "      <th></th>\n",
       "      <th>user_id</th>\n",
       "      <th>purchase_value</th>\n",
       "      <th>age</th>\n",
       "      <th>class</th>\n",
       "    </tr>\n",
       "    <tr>\n",
       "      <th>sex</th>\n",
       "      <th></th>\n",
       "      <th></th>\n",
       "      <th></th>\n",
       "      <th></th>\n",
       "    </tr>\n",
       "  </thead>\n",
       "  <tbody>\n",
       "    <tr>\n",
       "      <th>F</th>\n",
       "      <td>200154.199764</td>\n",
       "      <td>36.892023</td>\n",
       "      <td>33.098887</td>\n",
       "      <td>0.091007</td>\n",
       "    </tr>\n",
       "    <tr>\n",
       "      <th>M</th>\n",
       "      <td>200183.023207</td>\n",
       "      <td>36.966215</td>\n",
       "      <td>33.170455</td>\n",
       "      <td>0.095523</td>\n",
       "    </tr>\n",
       "  </tbody>\n",
       "</table>\n",
       "</div>"
      ],
      "text/plain": [
       "           user_id  purchase_value        age     class\n",
       "sex                                                    \n",
       "F    200154.199764       36.892023  33.098887  0.091007\n",
       "M    200183.023207       36.966215  33.170455  0.095523"
      ]
     },
     "execution_count": 10,
     "metadata": {},
     "output_type": "execute_result"
    }
   ],
   "source": [
    "#groupby sex variable\n",
    "df.groupby('sex').mean()"
   ]
  },
  {
   "cell_type": "markdown",
   "metadata": {},
   "source": [
    " "
   ]
  },
  {
   "cell_type": "markdown",
   "metadata": {},
   "source": [
    "### Data Preprocessing "
   ]
  },
  {
   "cell_type": "code",
   "execution_count": 11,
   "metadata": {},
   "outputs": [],
   "source": [
    "from datetime import datetime\n",
    "#convert the date column from object to datetime stamp\n",
    "# %y is required instead of %Y ( 2 digit year representation vs 4 digit year )\n",
    "df['signup_time'] =  pd.to_datetime(df['signup_time'], format=\"%m/%d/%y %H:%M\")\n",
    "\n",
    "df['purchase_time'] =  pd.to_datetime(df['purchase_time'], format=\"%m/%d/%y %H:%M\")\n"
   ]
  },
  {
   "cell_type": "code",
   "execution_count": 12,
   "metadata": {},
   "outputs": [
    {
     "name": "stdout",
     "output_type": "stream",
     "text": [
      "<class 'pandas.core.frame.DataFrame'>\n",
      "RangeIndex: 151112 entries, 0 to 151111\n",
      "Data columns (total 10 columns):\n",
      "user_id           151112 non-null int64\n",
      "signup_time       151112 non-null datetime64[ns]\n",
      "purchase_time     151112 non-null datetime64[ns]\n",
      "purchase_value    151112 non-null int64\n",
      "device_id         151112 non-null object\n",
      "source            151112 non-null object\n",
      "browser           151112 non-null object\n",
      "sex               151112 non-null object\n",
      "age               151112 non-null int64\n",
      "class             151112 non-null int64\n",
      "dtypes: datetime64[ns](2), int64(4), object(4)\n",
      "memory usage: 11.5+ MB\n"
     ]
    }
   ],
   "source": [
    "#validate the datatype for time columns\n",
    "df.info()"
   ]
  },
  {
   "cell_type": "code",
   "execution_count": 13,
   "metadata": {},
   "outputs": [
    {
     "data": {
      "text/plain": [
       "Index(['user_id', 'signup_time', 'purchase_time', 'purchase_value',\n",
       "       'device_id', 'source', 'browser', 'sex', 'age', 'class'],\n",
       "      dtype='object')"
      ]
     },
     "execution_count": 13,
     "metadata": {},
     "output_type": "execute_result"
    }
   ],
   "source": [
    "#validate the remaining columns\n",
    "df.columns"
   ]
  },
  {
   "cell_type": "markdown",
   "metadata": {},
   "source": [
    "### Break Up Dates And Times Into Individual Features"
   ]
  },
  {
   "cell_type": "code",
   "execution_count": 14,
   "metadata": {},
   "outputs": [],
   "source": [
    "# Create features for year, month, day, hour, and minute\n",
    "df['signup_year'] = df['signup_time'].dt.year\n",
    "df['signup_month'] = df['signup_time'].dt.month\n",
    "df['signup_month'] = df['signup_time'].dt.dayofweek\n",
    "df['signup_day'] = df['signup_time'].dt.day\n",
    "df['signup_hour'] = df['signup_time'].dt.hour\n",
    "df['signup_minute'] = df['signup_time'].dt.minute\n",
    "df['purchase_year'] = df['purchase_time'].dt.year\n",
    "df['purchase_month'] = df['purchase_time'].dt.month\n",
    "df['purchase_month'] = df['purchase_time'].dt.dayofweek\n",
    "df['purchase_day'] = df['purchase_time'].dt.day\n",
    "df['purchase_hour'] = df['purchase_time'].dt.hour\n",
    "df['purchase_minute'] = df['purchase_time'].dt.minute"
   ]
  },
  {
   "cell_type": "code",
   "execution_count": 15,
   "metadata": {},
   "outputs": [],
   "source": [
    "## calculating time difference between sign up and purchase\n",
    "df['date_difference']=(df['purchase_time']-df['signup_time']).dt.days"
   ]
  },
  {
   "cell_type": "code",
   "execution_count": 16,
   "metadata": {},
   "outputs": [],
   "source": [
    "# removing user_id, signup_time,purchase_time columns\n",
    "del df['user_id']\n",
    "del df['device_id']\n",
    "del df['signup_time']\n",
    "del df['purchase_time']"
   ]
  },
  {
   "cell_type": "code",
   "execution_count": 17,
   "metadata": {},
   "outputs": [
    {
     "data": {
      "text/plain": [
       "Index(['purchase_value', 'source', 'browser', 'sex', 'age', 'class',\n",
       "       'signup_year', 'signup_month', 'signup_day', 'signup_hour',\n",
       "       'signup_minute', 'purchase_year', 'purchase_month', 'purchase_day',\n",
       "       'purchase_hour', 'purchase_minute', 'date_difference'],\n",
       "      dtype='object')"
      ]
     },
     "execution_count": 17,
     "metadata": {},
     "output_type": "execute_result"
    }
   ],
   "source": [
    "df.columns"
   ]
  },
  {
   "cell_type": "code",
   "execution_count": 18,
   "metadata": {},
   "outputs": [
    {
     "data": {
      "text/html": [
       "<div>\n",
       "<table border=\"1\" class=\"dataframe\">\n",
       "  <thead>\n",
       "    <tr style=\"text-align: right;\">\n",
       "      <th></th>\n",
       "      <th>purchase_value</th>\n",
       "      <th>source</th>\n",
       "      <th>browser</th>\n",
       "      <th>sex</th>\n",
       "      <th>age</th>\n",
       "      <th>class</th>\n",
       "      <th>signup_year</th>\n",
       "      <th>signup_month</th>\n",
       "      <th>signup_day</th>\n",
       "      <th>signup_hour</th>\n",
       "      <th>signup_minute</th>\n",
       "      <th>purchase_year</th>\n",
       "      <th>purchase_month</th>\n",
       "      <th>purchase_day</th>\n",
       "      <th>purchase_hour</th>\n",
       "      <th>purchase_minute</th>\n",
       "      <th>date_difference</th>\n",
       "    </tr>\n",
       "  </thead>\n",
       "  <tbody>\n",
       "    <tr>\n",
       "      <th>0</th>\n",
       "      <td>34</td>\n",
       "      <td>SEO</td>\n",
       "      <td>Chrome</td>\n",
       "      <td>M</td>\n",
       "      <td>39</td>\n",
       "      <td>0</td>\n",
       "      <td>2015</td>\n",
       "      <td>1</td>\n",
       "      <td>24</td>\n",
       "      <td>22</td>\n",
       "      <td>55</td>\n",
       "      <td>2015</td>\n",
       "      <td>5</td>\n",
       "      <td>18</td>\n",
       "      <td>2</td>\n",
       "      <td>47</td>\n",
       "      <td>52</td>\n",
       "    </tr>\n",
       "    <tr>\n",
       "      <th>1</th>\n",
       "      <td>16</td>\n",
       "      <td>Ads</td>\n",
       "      <td>Chrome</td>\n",
       "      <td>F</td>\n",
       "      <td>53</td>\n",
       "      <td>0</td>\n",
       "      <td>2015</td>\n",
       "      <td>6</td>\n",
       "      <td>7</td>\n",
       "      <td>20</td>\n",
       "      <td>39</td>\n",
       "      <td>2015</td>\n",
       "      <td>0</td>\n",
       "      <td>8</td>\n",
       "      <td>1</td>\n",
       "      <td>38</td>\n",
       "      <td>0</td>\n",
       "    </tr>\n",
       "    <tr>\n",
       "      <th>2</th>\n",
       "      <td>15</td>\n",
       "      <td>SEO</td>\n",
       "      <td>Opera</td>\n",
       "      <td>M</td>\n",
       "      <td>53</td>\n",
       "      <td>1</td>\n",
       "      <td>2015</td>\n",
       "      <td>3</td>\n",
       "      <td>1</td>\n",
       "      <td>18</td>\n",
       "      <td>52</td>\n",
       "      <td>2015</td>\n",
       "      <td>3</td>\n",
       "      <td>1</td>\n",
       "      <td>18</td>\n",
       "      <td>52</td>\n",
       "      <td>0</td>\n",
       "    </tr>\n",
       "  </tbody>\n",
       "</table>\n",
       "</div>"
      ],
      "text/plain": [
       "   purchase_value source browser sex  age  class  signup_year  signup_month  \\\n",
       "0              34    SEO  Chrome   M   39      0         2015             1   \n",
       "1              16    Ads  Chrome   F   53      0         2015             6   \n",
       "2              15    SEO   Opera   M   53      1         2015             3   \n",
       "\n",
       "   signup_day  signup_hour  signup_minute  purchase_year  purchase_month  \\\n",
       "0          24           22             55           2015               5   \n",
       "1           7           20             39           2015               0   \n",
       "2           1           18             52           2015               3   \n",
       "\n",
       "   purchase_day  purchase_hour  purchase_minute  date_difference  \n",
       "0            18              2               47               52  \n",
       "1             8              1               38                0  \n",
       "2             1             18               52                0  "
      ]
     },
     "execution_count": 18,
     "metadata": {},
     "output_type": "execute_result"
    }
   ],
   "source": [
    "df.head(3)"
   ]
  },
  {
   "cell_type": "markdown",
   "metadata": {},
   "source": [
    "### Dummification "
   ]
  },
  {
   "cell_type": "code",
   "execution_count": 19,
   "metadata": {},
   "outputs": [],
   "source": [
    "df_new=pd.get_dummies(df,columns=['source','browser','sex'])"
   ]
  },
  {
   "cell_type": "code",
   "execution_count": 20,
   "metadata": {},
   "outputs": [
    {
     "data": {
      "text/plain": [
       "Index(['purchase_value', 'age', 'class', 'signup_year', 'signup_month',\n",
       "       'signup_day', 'signup_hour', 'signup_minute', 'purchase_year',\n",
       "       'purchase_month', 'purchase_day', 'purchase_hour', 'purchase_minute',\n",
       "       'date_difference', 'source_Ads', 'source_Direct', 'source_SEO',\n",
       "       'browser_Chrome', 'browser_FireFox', 'browser_IE', 'browser_Opera',\n",
       "       'browser_Safari', 'sex_F', 'sex_M'],\n",
       "      dtype='object')"
      ]
     },
     "execution_count": 20,
     "metadata": {},
     "output_type": "execute_result"
    }
   ],
   "source": [
    "df_new.columns"
   ]
  },
  {
   "cell_type": "code",
   "execution_count": 21,
   "metadata": {},
   "outputs": [
    {
     "data": {
      "text/plain": [
       "(151112, 24)"
      ]
     },
     "execution_count": 21,
     "metadata": {},
     "output_type": "execute_result"
    }
   ],
   "source": [
    "df_new.shape"
   ]
  },
  {
   "cell_type": "markdown",
   "metadata": {},
   "source": [
    "### Input/Output Data "
   ]
  },
  {
   "cell_type": "code",
   "execution_count": 22,
   "metadata": {},
   "outputs": [],
   "source": [
    "#import model specific libraries\n",
    "from sklearn.model_selection import train_test_split\n",
    "\n",
    "#create input dataset without including target variable( class column)\n",
    "X=df_new.loc[:, df_new.columns != 'class']"
   ]
  },
  {
   "cell_type": "code",
   "execution_count": 23,
   "metadata": {},
   "outputs": [
    {
     "data": {
      "text/plain": [
       "(151112, 23)"
      ]
     },
     "execution_count": 23,
     "metadata": {},
     "output_type": "execute_result"
    }
   ],
   "source": [
    "#Validate the shape of input data X\n",
    "X.shape"
   ]
  },
  {
   "cell_type": "code",
   "execution_count": 24,
   "metadata": {},
   "outputs": [
    {
     "data": {
      "text/plain": [
       "(151112,)"
      ]
     },
     "execution_count": 24,
     "metadata": {},
     "output_type": "execute_result"
    }
   ],
   "source": [
    "#Create the target data with only class column\n",
    "y=df_new['class']\n",
    "#Validate the shape of output data y\n",
    "y.shape"
   ]
  },
  {
   "cell_type": "markdown",
   "metadata": {},
   "source": [
    "#### Train Test split "
   ]
  },
  {
   "cell_type": "code",
   "execution_count": 25,
   "metadata": {},
   "outputs": [],
   "source": [
    "#Split the data into training and test data (70/30 ratio)\n",
    "X_train,X_test,y_train,y_test=train_test_split(X,y,test_size=0.3, random_state=100, stratify=y)"
   ]
  },
  {
   "cell_type": "code",
   "execution_count": 26,
   "metadata": {},
   "outputs": [
    {
     "name": "stdout",
     "output_type": "stream",
     "text": [
      "(105778, 23)\n",
      "(105778,)\n",
      "(45334, 23)\n",
      "(45334,)\n"
     ]
    }
   ],
   "source": [
    "#validate the shape of train and test dataset\n",
    "print (X_train.shape)\n",
    "print (y_train.shape)\n",
    "\n",
    "print (X_test.shape)\n",
    "print (y_test.shape)"
   ]
  },
  {
   "cell_type": "code",
   "execution_count": 27,
   "metadata": {},
   "outputs": [
    {
     "name": "stdout",
     "output_type": "stream",
     "text": [
      "9906\n",
      "4245\n"
     ]
    }
   ],
   "source": [
    "#check on number of positive classes in train and test data set\n",
    "print(np.sum(y_train))\n",
    "print(np.sum(y_test))"
   ]
  },
  {
   "cell_type": "markdown",
   "metadata": {},
   "source": [
    "### Model Building & Training "
   ]
  },
  {
   "cell_type": "code",
   "execution_count": 28,
   "metadata": {},
   "outputs": [],
   "source": [
    "#import the randomforest classifier\n",
    "from sklearn.ensemble import RandomForestClassifier"
   ]
  },
  {
   "cell_type": "code",
   "execution_count": 29,
   "metadata": {},
   "outputs": [],
   "source": [
    "#Train the random forest classifier on training dataset\n",
    "rf = RandomForestClassifier().fit(X_train,y_train)"
   ]
  },
  {
   "cell_type": "code",
   "execution_count": 30,
   "metadata": {},
   "outputs": [
    {
     "data": {
      "text/plain": [
       "RandomForestClassifier(bootstrap=True, class_weight=None, criterion='gini',\n",
       "            max_depth=None, max_features='auto', max_leaf_nodes=None,\n",
       "            min_impurity_decrease=0.0, min_impurity_split=None,\n",
       "            min_samples_leaf=1, min_samples_split=2,\n",
       "            min_weight_fraction_leaf=0.0, n_estimators=10, n_jobs=1,\n",
       "            oob_score=False, random_state=None, verbose=0,\n",
       "            warm_start=False)"
      ]
     },
     "execution_count": 30,
     "metadata": {},
     "output_type": "execute_result"
    }
   ],
   "source": [
    "# Model details and parameters\n",
    "rf"
   ]
  },
  {
   "cell_type": "code",
   "execution_count": 31,
   "metadata": {},
   "outputs": [
    {
     "data": {
      "text/plain": [
       "0.95566241672916574"
      ]
     },
     "execution_count": 31,
     "metadata": {},
     "output_type": "execute_result"
    }
   ],
   "source": [
    "#validate the model performance on unseen data\n",
    "rf.score(X_test, y_test)"
   ]
  },
  {
   "cell_type": "code",
   "execution_count": 32,
   "metadata": {},
   "outputs": [],
   "source": [
    "#make predictions on unseen data\n",
    "predictions=rf.predict(X_test)"
   ]
  },
  {
   "cell_type": "markdown",
   "metadata": {},
   "source": [
    "## Results "
   ]
  },
  {
   "cell_type": "markdown",
   "metadata": {},
   "source": [
    " "
   ]
  },
  {
   "cell_type": "code",
   "execution_count": 33,
   "metadata": {},
   "outputs": [],
   "source": [
    "#import confusion matrix , classification report\n",
    "from sklearn.metrics import confusion_matrix\n",
    "from sklearn.metrics import classification_report\n"
   ]
  },
  {
   "cell_type": "markdown",
   "metadata": {},
   "source": [
    "### Confusion Matrix "
   ]
  },
  {
   "cell_type": "code",
   "execution_count": 34,
   "metadata": {},
   "outputs": [
    {
     "name": "stdout",
     "output_type": "stream",
     "text": [
      "[[41054    35]\n",
      " [ 1975  2270]]\n"
     ]
    }
   ],
   "source": [
    "print(confusion_matrix(y_test, predictions))"
   ]
  },
  {
   "cell_type": "markdown",
   "metadata": {},
   "source": [
    "### Classification Report "
   ]
  },
  {
   "cell_type": "code",
   "execution_count": 35,
   "metadata": {},
   "outputs": [
    {
     "name": "stdout",
     "output_type": "stream",
     "text": [
      "             precision    recall  f1-score   support\n",
      "\n",
      "    Genuine       0.95      1.00      0.98     41089\n",
      "      Fraud       0.98      0.53      0.69      4245\n",
      "\n",
      "avg / total       0.96      0.96      0.95     45334\n",
      "\n"
     ]
    }
   ],
   "source": [
    "print(classification_report(y_test, predictions,target_names=[\"Genuine\", \"Fraud\"]))"
   ]
  },
  {
   "cell_type": "code",
   "execution_count": 36,
   "metadata": {},
   "outputs": [
    {
     "data": {
      "image/png": "[encoded data removed]",
      "text/plain": [
       "<matplotlib.figure.Figure at 0x7fb2150d1ac8>"
      ]
     },
     "metadata": {},
     "output_type": "display_data"
    }
   ],
   "source": [
    "## Feature Importance \n",
    "features = X.columns\n",
    "importances = rf.feature_importances_\n",
    "indices = np.argsort(importances)\n",
    "plt.figure(figsize=(10,10))\n",
    "plt.title('Feature Importances')\n",
    "plt.barh(range(len(indices)), importances[indices], color='b', align='center')\n",
    "plt.yticks(range(len(indices)), features[indices])\n",
    "plt.xlabel('Relative Importance')\n",
    "plt.tight_layout()\n",
    "plt.show()"
   ]
  },
  {
   "cell_type": "markdown",
   "metadata": {},
   "source": [
    "## Hyperparameter Tunning"
   ]
  },
  {
   "cell_type": "markdown",
   "metadata": {},
   "source": [
    "* rf.criterion: This is the criterion for how the splits are determined. The default is gini\n",
    "* rf.bootstrap: A Boolean that indicates whether we used bootstrap samples when training random forest\n",
    "* rf.n_jobs: The number of jobs to train and predict. If you want to use all the processors, set this to -1\n",
    "* rf.max_features: This denotes the number of features to consider when making the best split\n",
    "* rf.compute_importances: This helps us decide whether to compute the importance of the features\n",
    "* rf.max_depth: This denotes how deep each tree can go"
   ]
  },
  {
   "cell_type": "markdown",
   "metadata": {},
   "source": [
    "### Using GridSearchCV"
   ]
  },
  {
   "cell_type": "code",
   "execution_count": 37,
   "metadata": {},
   "outputs": [],
   "source": [
    "from sklearn.model_selection import GridSearchCV"
   ]
  },
  {
   "cell_type": "code",
   "execution_count": 38,
   "metadata": {},
   "outputs": [],
   "source": [
    "#fit the model\n",
    "rf_model=RandomForestClassifier()"
   ]
  },
  {
   "cell_type": "code",
   "execution_count": 46,
   "metadata": {},
   "outputs": [],
   "source": [
    "# Create the parameter grid based on the results of random search \n",
    "param_grid = {\n",
    "    'bootstrap': [True],\n",
    "    'max_depth': [40,50,60],\n",
    "    'max_features': ['auto', 'sqrt', 'log2',.01, .5, .99],\n",
    "    'n_estimators': [10,15,20,25,30]\n",
    "}"
   ]
  },
  {
   "cell_type": "code",
   "execution_count": 47,
   "metadata": {},
   "outputs": [],
   "source": [
    "#Run grid search algorithm\n",
    "grid_search = GridSearchCV(estimator = rf_model, param_grid = param_grid, \n",
    "                          cv = 3, n_jobs = -1, verbose = 2)"
   ]
  },
  {
   "cell_type": "markdown",
   "metadata": {},
   "source": [
    "This will try out  90 combinations of settings"
   ]
  },
  {
   "cell_type": "code",
   "execution_count": 48,
   "metadata": {},
   "outputs": [
    {
     "name": "stdout",
     "output_type": "stream",
     "text": [
      "Fitting 3 folds for each of 90 candidates, totalling 270 fits\n",
      "[CV] bootstrap=True, max_depth=40, max_features=auto, n_estimators=10 \n",
      "[CV] bootstrap=True, max_depth=40, max_features=auto, n_estimators=10 \n",
      "[CV] bootstrap=True, max_depth=40, max_features=auto, n_estimators=10 \n",
      "[CV] bootstrap=True, max_depth=40, max_features=auto, n_estimators=15 \n",
      "[CV]  bootstrap=True, max_depth=40, max_features=auto, n_estimators=10, total=   1.1s\n",
      "[CV]  bootstrap=True, max_depth=40, max_features=auto, n_estimators=10, total=   1.1s\n",
      "[CV] bootstrap=True, max_depth=40, max_features=auto, n_estimators=15 \n",
      "[CV] bootstrap=True, max_depth=40, max_features=auto, n_estimators=15 \n",
      "[CV]  bootstrap=True, max_depth=40, max_features=auto, n_estimators=10, total=   1.1s\n",
      "[CV] bootstrap=True, max_depth=40, max_features=auto, n_estimators=20 \n",
      "[CV]  bootstrap=True, max_depth=40, max_features=auto, n_estimators=15, total=   1.7s\n",
      "[CV] bootstrap=True, max_depth=40, max_features=auto, n_estimators=20 \n",
      "[CV]  bootstrap=True, max_depth=40, max_features=auto, n_estimators=15, total=   1.8s\n",
      "[CV] bootstrap=True, max_depth=40, max_features=auto, n_estimators=20 \n",
      "[CV]  bootstrap=True, max_depth=40, max_features=auto, n_estimators=15, total=   1.9s\n",
      "[CV] bootstrap=True, max_depth=40, max_features=auto, n_estimators=25 \n",
      "[CV]  bootstrap=True, max_depth=40, max_features=auto, n_estimators=20, total=   2.3s\n",
      "[CV] bootstrap=True, max_depth=40, max_features=auto, n_estimators=25 \n",
      "[CV]  bootstrap=True, max_depth=40, max_features=auto, n_estimators=20, total=   2.2s\n",
      "[CV] bootstrap=True, max_depth=40, max_features=auto, n_estimators=25 \n",
      "[CV]  bootstrap=True, max_depth=40, max_features=auto, n_estimators=20, total=   2.3s\n",
      "[CV] bootstrap=True, max_depth=40, max_features=auto, n_estimators=30 \n",
      "[CV]  bootstrap=True, max_depth=40, max_features=auto, n_estimators=25, total=   2.9s\n",
      "[CV] bootstrap=True, max_depth=40, max_features=auto, n_estimators=30 \n",
      "[CV]  bootstrap=True, max_depth=40, max_features=auto, n_estimators=25, total=   2.8s\n",
      "[CV] bootstrap=True, max_depth=40, max_features=auto, n_estimators=30 \n",
      "[CV]  bootstrap=True, max_depth=40, max_features=auto, n_estimators=25, total=   2.8s\n",
      "[CV] bootstrap=True, max_depth=40, max_features=sqrt, n_estimators=10 \n",
      "[CV]  bootstrap=True, max_depth=40, max_features=sqrt, n_estimators=10, total=   1.1s\n",
      "[CV] bootstrap=True, max_depth=40, max_features=sqrt, n_estimators=10 \n",
      "[CV]  bootstrap=True, max_depth=40, max_features=auto, n_estimators=30, total=   3.1s\n",
      "[CV] bootstrap=True, max_depth=40, max_features=sqrt, n_estimators=10 \n",
      "[CV]  bootstrap=True, max_depth=40, max_features=auto, n_estimators=30, total=   3.2s\n",
      "[CV]  bootstrap=True, max_depth=40, max_features=sqrt, n_estimators=10, total=   1.2s\n",
      "[CV] bootstrap=True, max_depth=40, max_features=sqrt, n_estimators=15 \n",
      "[CV] bootstrap=True, max_depth=40, max_features=sqrt, n_estimators=15 \n",
      "[CV]  bootstrap=True, max_depth=40, max_features=auto, n_estimators=30, total=   3.1s\n",
      "[CV] bootstrap=True, max_depth=40, max_features=sqrt, n_estimators=15 \n",
      "[CV]  bootstrap=True, max_depth=40, max_features=sqrt, n_estimators=10, total=   1.1s\n",
      "[CV] bootstrap=True, max_depth=40, max_features=sqrt, n_estimators=20 \n",
      "[CV]  bootstrap=True, max_depth=40, max_features=sqrt, n_estimators=15, total=   1.8s\n",
      "[CV] bootstrap=True, max_depth=40, max_features=sqrt, n_estimators=20 \n",
      "[CV]  bootstrap=True, max_depth=40, max_features=sqrt, n_estimators=15, total=   1.8s\n",
      "[CV] bootstrap=True, max_depth=40, max_features=sqrt, n_estimators=20 \n",
      "[CV]  bootstrap=True, max_depth=40, max_features=sqrt, n_estimators=15, total=   1.8s\n",
      "[CV] bootstrap=True, max_depth=40, max_features=sqrt, n_estimators=25 \n",
      "[CV]  bootstrap=True, max_depth=40, max_features=sqrt, n_estimators=20, total=   2.4s\n",
      "[CV] bootstrap=True, max_depth=40, max_features=sqrt, n_estimators=25 \n",
      "[CV]  bootstrap=True, max_depth=40, max_features=sqrt, n_estimators=20, total=   2.4s\n",
      "[CV] bootstrap=True, max_depth=40, max_features=sqrt, n_estimators=25 \n",
      "[CV]  bootstrap=True, max_depth=40, max_features=sqrt, n_estimators=20, total=   2.4s\n",
      "[CV] bootstrap=True, max_depth=40, max_features=sqrt, n_estimators=30 \n",
      "[CV]  bootstrap=True, max_depth=40, max_features=sqrt, n_estimators=25, total=   2.9s\n",
      "[CV] bootstrap=True, max_depth=40, max_features=sqrt, n_estimators=30 \n",
      "[CV]  bootstrap=True, max_depth=40, max_features=sqrt, n_estimators=25, total=   2.8s\n",
      "[CV] bootstrap=True, max_depth=40, max_features=sqrt, n_estimators=30 \n",
      "[CV]  bootstrap=True, max_depth=40, max_features=sqrt, n_estimators=25, total=   2.7s\n",
      "[CV] bootstrap=True, max_depth=40, max_features=log2, n_estimators=10 \n",
      "[CV]  bootstrap=True, max_depth=40, max_features=sqrt, n_estimators=30, total=   3.3s\n",
      "[CV] bootstrap=True, max_depth=40, max_features=log2, n_estimators=10 \n",
      "[CV]  bootstrap=True, max_depth=40, max_features=log2, n_estimators=10, total=   1.2s\n",
      "[CV] bootstrap=True, max_depth=40, max_features=log2, n_estimators=10 \n",
      "[CV]  bootstrap=True, max_depth=40, max_features=sqrt, n_estimators=30, total=   3.3s\n",
      "[CV] bootstrap=True, max_depth=40, max_features=log2, n_estimators=15 \n",
      "[CV]  bootstrap=True, max_depth=40, max_features=log2, n_estimators=10, total=   1.1s\n",
      "[CV] bootstrap=True, max_depth=40, max_features=log2, n_estimators=15 \n",
      "[CV]  bootstrap=True, max_depth=40, max_features=sqrt, n_estimators=30, total=   3.3s\n",
      "[CV] bootstrap=True, max_depth=40, max_features=log2, n_estimators=15 \n",
      "[CV]  bootstrap=True, max_depth=40, max_features=log2, n_estimators=10, total=   1.0s\n",
      "[CV] bootstrap=True, max_depth=40, max_features=log2, n_estimators=20 \n"
     ]
    },
    {
     "name": "stderr",
     "output_type": "stream",
     "text": [
      "[Parallel(n_jobs=-1)]: Done  33 tasks      | elapsed:   21.1s\n"
     ]
    },
    {
     "name": "stdout",
     "output_type": "stream",
     "text": [
      "[CV]  bootstrap=True, max_depth=40, max_features=log2, n_estimators=15, total=   1.7s\n",
      "[CV] bootstrap=True, max_depth=40, max_features=log2, n_estimators=20 \n",
      "[CV]  bootstrap=True, max_depth=40, max_features=log2, n_estimators=15, total=   1.8s\n",
      "[CV]  bootstrap=True, max_depth=40, max_features=log2, n_estimators=15, total=   1.7s\n",
      "[CV] bootstrap=True, max_depth=40, max_features=log2, n_estimators=20 \n",
      "[CV] bootstrap=True, max_depth=40, max_features=log2, n_estimators=25 \n",
      "[CV]  bootstrap=True, max_depth=40, max_features=log2, n_estimators=20, total=   2.2s\n",
      "[CV] bootstrap=True, max_depth=40, max_features=log2, n_estimators=25 \n",
      "[CV]  bootstrap=True, max_depth=40, max_features=log2, n_estimators=20, total=   2.2s\n",
      "[CV] bootstrap=True, max_depth=40, max_features=log2, n_estimators=25 \n",
      "[CV]  bootstrap=True, max_depth=40, max_features=log2, n_estimators=20, total=   2.2s\n",
      "[CV] bootstrap=True, max_depth=40, max_features=log2, n_estimators=30 \n",
      "[CV]  bootstrap=True, max_depth=40, max_features=log2, n_estimators=25, total=   2.8s\n",
      "[CV] bootstrap=True, max_depth=40, max_features=log2, n_estimators=30 \n",
      "[CV]  bootstrap=True, max_depth=40, max_features=log2, n_estimators=25, total=   2.7s\n",
      "[CV] bootstrap=True, max_depth=40, max_features=log2, n_estimators=30 \n",
      "[CV]  bootstrap=True, max_depth=40, max_features=log2, n_estimators=25, total=   2.7s\n",
      "[CV] bootstrap=True, max_depth=40, max_features=0.01, n_estimators=10 \n",
      "[CV]  bootstrap=True, max_depth=40, max_features=0.01, n_estimators=10, total=   0.7s\n",
      "[CV] bootstrap=True, max_depth=40, max_features=0.01, n_estimators=10 \n",
      "[CV]  bootstrap=True, max_depth=40, max_features=log2, n_estimators=30, total=   3.3s\n",
      "[CV] bootstrap=True, max_depth=40, max_features=0.01, n_estimators=10 \n",
      "[CV]  bootstrap=True, max_depth=40, max_features=0.01, n_estimators=10, total=   0.6s\n",
      "[CV] bootstrap=True, max_depth=40, max_features=0.01, n_estimators=15 \n",
      "[CV]  bootstrap=True, max_depth=40, max_features=log2, n_estimators=30, total=   3.2s\n",
      "[CV] bootstrap=True, max_depth=40, max_features=0.01, n_estimators=15 \n",
      "[CV]  bootstrap=True, max_depth=40, max_features=0.01, n_estimators=10, total=   0.6s\n",
      "[CV] bootstrap=True, max_depth=40, max_features=0.01, n_estimators=15 \n",
      "[CV]  bootstrap=True, max_depth=40, max_features=log2, n_estimators=30, total=   3.2s\n",
      "[CV] bootstrap=True, max_depth=40, max_features=0.01, n_estimators=20 \n",
      "[CV]  bootstrap=True, max_depth=40, max_features=0.01, n_estimators=15, total=   0.9s\n",
      "[CV] bootstrap=True, max_depth=40, max_features=0.01, n_estimators=20 \n",
      "[CV]  bootstrap=True, max_depth=40, max_features=0.01, n_estimators=15, total=   0.9s\n",
      "[CV] bootstrap=True, max_depth=40, max_features=0.01, n_estimators=20 \n",
      "[CV]  bootstrap=True, max_depth=40, max_features=0.01, n_estimators=15, total=   0.9s\n",
      "[CV] bootstrap=True, max_depth=40, max_features=0.01, n_estimators=25 \n",
      "[CV]  bootstrap=True, max_depth=40, max_features=0.01, n_estimators=20, total=   1.2s\n",
      "[CV] bootstrap=True, max_depth=40, max_features=0.01, n_estimators=25 \n",
      "[CV]  bootstrap=True, max_depth=40, max_features=0.01, n_estimators=20, total=   1.3s\n",
      "[CV] bootstrap=True, max_depth=40, max_features=0.01, n_estimators=25 \n",
      "[CV]  bootstrap=True, max_depth=40, max_features=0.01, n_estimators=20, total=   1.3s\n",
      "[CV] bootstrap=True, max_depth=40, max_features=0.01, n_estimators=30 \n",
      "[CV]  bootstrap=True, max_depth=40, max_features=0.01, n_estimators=25, total=   1.5s\n",
      "[CV] bootstrap=True, max_depth=40, max_features=0.01, n_estimators=30 \n",
      "[CV]  bootstrap=True, max_depth=40, max_features=0.01, n_estimators=25, total=   1.6s\n",
      "[CV] bootstrap=True, max_depth=40, max_features=0.01, n_estimators=30 \n",
      "[CV]  bootstrap=True, max_depth=40, max_features=0.01, n_estimators=25, total=   1.6s\n",
      "[CV] bootstrap=True, max_depth=40, max_features=0.5, n_estimators=10 .\n",
      "[CV]  bootstrap=True, max_depth=40, max_features=0.01, n_estimators=30, total=   2.0s\n",
      "[CV] bootstrap=True, max_depth=40, max_features=0.5, n_estimators=10 .\n",
      "[CV]  bootstrap=True, max_depth=40, max_features=0.01, n_estimators=30, total=   1.9s\n",
      "[CV] bootstrap=True, max_depth=40, max_features=0.5, n_estimators=10 .\n",
      "[CV]  bootstrap=True, max_depth=40, max_features=0.01, n_estimators=30, total=   1.9s\n",
      "[CV] bootstrap=True, max_depth=40, max_features=0.5, n_estimators=15 .\n",
      "[CV]  bootstrap=True, max_depth=40, max_features=0.5, n_estimators=10, total=   2.4s\n",
      "[CV] bootstrap=True, max_depth=40, max_features=0.5, n_estimators=15 .\n",
      "[CV]  bootstrap=True, max_depth=40, max_features=0.5, n_estimators=10, total=   2.4s\n",
      "[CV] bootstrap=True, max_depth=40, max_features=0.5, n_estimators=15 .\n",
      "[CV]  bootstrap=True, max_depth=40, max_features=0.5, n_estimators=10, total=   2.5s\n",
      "[CV] bootstrap=True, max_depth=40, max_features=0.5, n_estimators=20 .\n",
      "[CV]  bootstrap=True, max_depth=40, max_features=0.5, n_estimators=15, total=   3.7s\n",
      "[CV] bootstrap=True, max_depth=40, max_features=0.5, n_estimators=20 .\n",
      "[CV]  bootstrap=True, max_depth=40, max_features=0.5, n_estimators=15, total=   3.9s\n",
      "[CV] bootstrap=True, max_depth=40, max_features=0.5, n_estimators=20 .\n",
      "[CV]  bootstrap=True, max_depth=40, max_features=0.5, n_estimators=15, total=   3.8s\n",
      "[CV] bootstrap=True, max_depth=40, max_features=0.5, n_estimators=25 .\n",
      "[CV]  bootstrap=True, max_depth=40, max_features=0.5, n_estimators=20, total=   4.9s\n",
      "[CV] bootstrap=True, max_depth=40, max_features=0.5, n_estimators=25 .\n",
      "[CV]  bootstrap=True, max_depth=40, max_features=0.5, n_estimators=20, total=   4.9s\n",
      "[CV] bootstrap=True, max_depth=40, max_features=0.5, n_estimators=25 .\n",
      "[CV]  bootstrap=True, max_depth=40, max_features=0.5, n_estimators=20, total=   4.9s\n",
      "[CV] bootstrap=True, max_depth=40, max_features=0.5, n_estimators=30 .\n",
      "[CV]  bootstrap=True, max_depth=40, max_features=0.5, n_estimators=25, total=   6.0s\n",
      "[CV] bootstrap=True, max_depth=40, max_features=0.5, n_estimators=30 .\n",
      "[CV]  bootstrap=True, max_depth=40, max_features=0.5, n_estimators=25, total=   6.0s\n",
      "[CV] bootstrap=True, max_depth=40, max_features=0.5, n_estimators=30 .\n",
      "[CV]  bootstrap=True, max_depth=40, max_features=0.5, n_estimators=25, total=   5.8s\n",
      "[CV] bootstrap=True, max_depth=40, max_features=0.99, n_estimators=10 \n",
      "[CV]  bootstrap=True, max_depth=40, max_features=0.5, n_estimators=30, total=   6.7s\n",
      "[CV] bootstrap=True, max_depth=40, max_features=0.99, n_estimators=10 \n",
      "[CV]  bootstrap=True, max_depth=40, max_features=0.5, n_estimators=30, total=   6.8s\n",
      "[CV] bootstrap=True, max_depth=40, max_features=0.99, n_estimators=10 \n",
      "[CV]  bootstrap=True, max_depth=40, max_features=0.99, n_estimators=10, total=   4.3s\n",
      "[CV] bootstrap=True, max_depth=40, max_features=0.99, n_estimators=15 \n",
      "[CV]  bootstrap=True, max_depth=40, max_features=0.5, n_estimators=30, total=   6.8s\n",
      "[CV] bootstrap=True, max_depth=40, max_features=0.99, n_estimators=15 \n",
      "[CV]  bootstrap=True, max_depth=40, max_features=0.99, n_estimators=10, total=   4.8s\n",
      "[CV] bootstrap=True, max_depth=40, max_features=0.99, n_estimators=15 \n",
      "[CV]  bootstrap=True, max_depth=40, max_features=0.99, n_estimators=10, total=   4.9s\n",
      "[CV] bootstrap=True, max_depth=40, max_features=0.99, n_estimators=20 \n",
      "[CV]  bootstrap=True, max_depth=40, max_features=0.99, n_estimators=15, total=   7.0s\n",
      "[CV] bootstrap=True, max_depth=40, max_features=0.99, n_estimators=20 \n",
      "[CV]  bootstrap=True, max_depth=40, max_features=0.99, n_estimators=15, total=   7.0s\n",
      "[CV] bootstrap=True, max_depth=40, max_features=0.99, n_estimators=20 \n",
      "[CV]  bootstrap=True, max_depth=40, max_features=0.99, n_estimators=15, total=   6.8s\n",
      "[CV] bootstrap=True, max_depth=40, max_features=0.99, n_estimators=25 \n",
      "[CV]  bootstrap=True, max_depth=40, max_features=0.99, n_estimators=20, total=   9.0s\n",
      "[CV] bootstrap=True, max_depth=40, max_features=0.99, n_estimators=25 \n",
      "[CV]  bootstrap=True, max_depth=40, max_features=0.99, n_estimators=20, total=   9.2s\n",
      "[CV] bootstrap=True, max_depth=40, max_features=0.99, n_estimators=25 \n",
      "[CV]  bootstrap=True, max_depth=40, max_features=0.99, n_estimators=20, total=   9.4s\n",
      "[CV] bootstrap=True, max_depth=40, max_features=0.99, n_estimators=30 \n",
      "[CV]  bootstrap=True, max_depth=40, max_features=0.99, n_estimators=25, total=  11.6s\n",
      "[CV] bootstrap=True, max_depth=40, max_features=0.99, n_estimators=30 \n",
      "[CV]  bootstrap=True, max_depth=40, max_features=0.99, n_estimators=25, total=  11.6s\n",
      "[CV] bootstrap=True, max_depth=40, max_features=0.99, n_estimators=30 \n",
      "[CV]  bootstrap=True, max_depth=40, max_features=0.99, n_estimators=25, total=  11.6s\n",
      "[CV] bootstrap=True, max_depth=50, max_features=auto, n_estimators=10 \n",
      "[CV]  bootstrap=True, max_depth=50, max_features=auto, n_estimators=10, total=   1.2s\n",
      "[CV] bootstrap=True, max_depth=50, max_features=auto, n_estimators=10 \n",
      "[CV]  bootstrap=True, max_depth=50, max_features=auto, n_estimators=10, total=   1.1s\n",
      "[CV] bootstrap=True, max_depth=50, max_features=auto, n_estimators=10 \n",
      "[CV]  bootstrap=True, max_depth=40, max_features=0.99, n_estimators=30, total=  13.2s\n",
      "[CV] bootstrap=True, max_depth=50, max_features=auto, n_estimators=15 \n",
      "[CV]  bootstrap=True, max_depth=50, max_features=auto, n_estimators=10, total=   1.0s\n",
      "[CV] bootstrap=True, max_depth=50, max_features=auto, n_estimators=15 \n",
      "[CV]  bootstrap=True, max_depth=50, max_features=auto, n_estimators=15, total=   1.5s\n",
      "[CV] bootstrap=True, max_depth=50, max_features=auto, n_estimators=15 \n",
      "[CV]  bootstrap=True, max_depth=50, max_features=auto, n_estimators=15, total=   1.4s\n",
      "[CV] bootstrap=True, max_depth=50, max_features=auto, n_estimators=20 \n",
      "[CV]  bootstrap=True, max_depth=40, max_features=0.99, n_estimators=30, total=  13.1s\n",
      "[CV] bootstrap=True, max_depth=50, max_features=auto, n_estimators=20 \n",
      "[CV]  bootstrap=True, max_depth=50, max_features=auto, n_estimators=15, total=   1.4s\n",
      "[CV] bootstrap=True, max_depth=50, max_features=auto, n_estimators=20 \n",
      "[CV]  bootstrap=True, max_depth=50, max_features=auto, n_estimators=20, total=   2.0s\n",
      "[CV] bootstrap=True, max_depth=50, max_features=auto, n_estimators=25 \n",
      "[CV]  bootstrap=True, max_depth=50, max_features=auto, n_estimators=20, total=   2.1s\n",
      "[CV] bootstrap=True, max_depth=50, max_features=auto, n_estimators=25 \n",
      "[CV]  bootstrap=True, max_depth=50, max_features=auto, n_estimators=20, total=   2.0s\n",
      "[CV] bootstrap=True, max_depth=50, max_features=auto, n_estimators=25 \n",
      "[CV]  bootstrap=True, max_depth=40, max_features=0.99, n_estimators=30, total=  13.0s\n",
      "[CV] bootstrap=True, max_depth=50, max_features=auto, n_estimators=30 \n",
      "[CV]  bootstrap=True, max_depth=50, max_features=auto, n_estimators=25, total=   2.6s\n",
      "[CV] bootstrap=True, max_depth=50, max_features=auto, n_estimators=30 \n",
      "[CV]  bootstrap=True, max_depth=50, max_features=auto, n_estimators=25, total=   2.5s\n",
      "[CV] bootstrap=True, max_depth=50, max_features=auto, n_estimators=30 \n",
      "[CV]  bootstrap=True, max_depth=50, max_features=auto, n_estimators=25, total=   2.5s\n",
      "[CV] bootstrap=True, max_depth=50, max_features=sqrt, n_estimators=10 \n",
      "[CV]  bootstrap=True, max_depth=50, max_features=sqrt, n_estimators=10, total=   1.0s\n",
      "[CV] bootstrap=True, max_depth=50, max_features=sqrt, n_estimators=10 \n",
      "[CV]  bootstrap=True, max_depth=50, max_features=auto, n_estimators=30, total=   2.9s\n",
      "[CV] bootstrap=True, max_depth=50, max_features=sqrt, n_estimators=10 \n",
      "[CV]  bootstrap=True, max_depth=50, max_features=sqrt, n_estimators=10, total=   1.0s\n",
      "[CV] bootstrap=True, max_depth=50, max_features=sqrt, n_estimators=15 \n",
      "[CV]  bootstrap=True, max_depth=50, max_features=auto, n_estimators=30, total=   2.9s\n",
      "[CV] bootstrap=True, max_depth=50, max_features=sqrt, n_estimators=15 \n",
      "[CV]  bootstrap=True, max_depth=50, max_features=auto, n_estimators=30, total=   2.9s\n",
      "[CV] bootstrap=True, max_depth=50, max_features=sqrt, n_estimators=15 \n",
      "[CV]  bootstrap=True, max_depth=50, max_features=sqrt, n_estimators=10, total=   1.0s\n",
      "[CV] bootstrap=True, max_depth=50, max_features=sqrt, n_estimators=20 \n",
      "[CV]  bootstrap=True, max_depth=50, max_features=sqrt, n_estimators=15, total=   1.5s\n",
      "[CV] bootstrap=True, max_depth=50, max_features=sqrt, n_estimators=20 \n",
      "[CV]  bootstrap=True, max_depth=50, max_features=sqrt, n_estimators=15, total=   1.4s\n",
      "[CV] bootstrap=True, max_depth=50, max_features=sqrt, n_estimators=20 \n",
      "[CV]  bootstrap=True, max_depth=50, max_features=sqrt, n_estimators=15, total=   1.5s\n",
      "[CV] bootstrap=True, max_depth=50, max_features=sqrt, n_estimators=25 \n",
      "[CV]  bootstrap=True, max_depth=50, max_features=sqrt, n_estimators=20, total=   2.0s\n",
      "[CV] bootstrap=True, max_depth=50, max_features=sqrt, n_estimators=25 \n",
      "[CV]  bootstrap=True, max_depth=50, max_features=sqrt, n_estimators=20, total=   2.0s\n",
      "[CV] bootstrap=True, max_depth=50, max_features=sqrt, n_estimators=25 \n",
      "[CV]  bootstrap=True, max_depth=50, max_features=sqrt, n_estimators=20, total=   2.0s\n",
      "[CV] bootstrap=True, max_depth=50, max_features=sqrt, n_estimators=30 \n",
      "[CV]  bootstrap=True, max_depth=50, max_features=sqrt, n_estimators=25, total=   2.5s\n",
      "[CV] bootstrap=True, max_depth=50, max_features=sqrt, n_estimators=30 \n",
      "[CV]  bootstrap=True, max_depth=50, max_features=sqrt, n_estimators=25, total=   2.4s\n",
      "[CV] bootstrap=True, max_depth=50, max_features=sqrt, n_estimators=30 \n",
      "[CV]  bootstrap=True, max_depth=50, max_features=sqrt, n_estimators=25, total=   2.5s\n",
      "[CV] bootstrap=True, max_depth=50, max_features=log2, n_estimators=10 \n",
      "[CV]  bootstrap=True, max_depth=50, max_features=sqrt, n_estimators=30, total=   2.9s\n",
      "[CV] bootstrap=True, max_depth=50, max_features=log2, n_estimators=10 \n",
      "[CV]  bootstrap=True, max_depth=50, max_features=log2, n_estimators=10, total=   1.1s\n",
      "[CV] bootstrap=True, max_depth=50, max_features=log2, n_estimators=10 \n",
      "[CV]  bootstrap=True, max_depth=50, max_features=sqrt, n_estimators=30, total=   2.9s\n",
      "[CV] bootstrap=True, max_depth=50, max_features=log2, n_estimators=15 \n",
      "[CV]  bootstrap=True, max_depth=50, max_features=log2, n_estimators=10, total=   1.1s\n",
      "[CV] bootstrap=True, max_depth=50, max_features=log2, n_estimators=15 \n",
      "[CV]  bootstrap=True, max_depth=50, max_features=log2, n_estimators=10, total=   1.0s\n",
      "[CV] bootstrap=True, max_depth=50, max_features=log2, n_estimators=15 \n",
      "[CV]  bootstrap=True, max_depth=50, max_features=sqrt, n_estimators=30, total=   3.1s\n",
      "[CV] bootstrap=True, max_depth=50, max_features=log2, n_estimators=20 \n",
      "[CV]  bootstrap=True, max_depth=50, max_features=log2, n_estimators=15, total=   1.5s\n",
      "[CV] bootstrap=True, max_depth=50, max_features=log2, n_estimators=20 \n",
      "[CV]  bootstrap=True, max_depth=50, max_features=log2, n_estimators=15, total=   1.5s\n",
      "[CV] bootstrap=True, max_depth=50, max_features=log2, n_estimators=20 \n",
      "[CV]  bootstrap=True, max_depth=50, max_features=log2, n_estimators=15, total=   1.4s\n",
      "[CV] bootstrap=True, max_depth=50, max_features=log2, n_estimators=25 \n",
      "[CV]  bootstrap=True, max_depth=50, max_features=log2, n_estimators=20, total=   2.0s\n",
      "[CV] bootstrap=True, max_depth=50, max_features=log2, n_estimators=25 \n",
      "[CV]  bootstrap=True, max_depth=50, max_features=log2, n_estimators=20, total=   2.0s\n",
      "[CV] bootstrap=True, max_depth=50, max_features=log2, n_estimators=25 \n",
      "[CV]  bootstrap=True, max_depth=50, max_features=log2, n_estimators=20, total=   2.3s\n",
      "[CV] bootstrap=True, max_depth=50, max_features=log2, n_estimators=30 \n",
      "[CV]  bootstrap=True, max_depth=50, max_features=log2, n_estimators=25, total=   2.8s\n",
      "[CV] bootstrap=True, max_depth=50, max_features=log2, n_estimators=30 \n",
      "[CV]  bootstrap=True, max_depth=50, max_features=log2, n_estimators=25, total=   2.9s\n",
      "[CV] bootstrap=True, max_depth=50, max_features=log2, n_estimators=30 \n",
      "[CV]  bootstrap=True, max_depth=50, max_features=log2, n_estimators=25, total=   3.0s\n",
      "[CV] bootstrap=True, max_depth=50, max_features=0.01, n_estimators=10 \n",
      "[CV]  bootstrap=True, max_depth=50, max_features=0.01, n_estimators=10, total=   0.7s\n",
      "[CV] bootstrap=True, max_depth=50, max_features=0.01, n_estimators=10 \n",
      "[CV]  bootstrap=True, max_depth=50, max_features=log2, n_estimators=30, total=   3.6s\n",
      "[CV] bootstrap=True, max_depth=50, max_features=0.01, n_estimators=10 \n",
      "[CV]  bootstrap=True, max_depth=50, max_features=0.01, n_estimators=10, total=   0.6s\n",
      "[CV] bootstrap=True, max_depth=50, max_features=0.01, n_estimators=15 \n",
      "[CV]  bootstrap=True, max_depth=50, max_features=0.01, n_estimators=10, total=   0.6s\n",
      "[CV] bootstrap=True, max_depth=50, max_features=0.01, n_estimators=15 \n",
      "[CV]  bootstrap=True, max_depth=50, max_features=log2, n_estimators=30, total=   3.6s\n",
      "[CV] bootstrap=True, max_depth=50, max_features=0.01, n_estimators=15 \n",
      "[CV]  bootstrap=True, max_depth=50, max_features=0.01, n_estimators=15, total=   0.9s\n",
      "[CV] bootstrap=True, max_depth=50, max_features=0.01, n_estimators=20 \n",
      "[CV]  bootstrap=True, max_depth=50, max_features=log2, n_estimators=30, total=   3.3s\n",
      "[CV] bootstrap=True, max_depth=50, max_features=0.01, n_estimators=20 \n",
      "[CV]  bootstrap=True, max_depth=50, max_features=0.01, n_estimators=15, total=   0.9s\n",
      "[CV] bootstrap=True, max_depth=50, max_features=0.01, n_estimators=20 \n",
      "[CV]  bootstrap=True, max_depth=50, max_features=0.01, n_estimators=15, total=   1.0s\n",
      "[CV] bootstrap=True, max_depth=50, max_features=0.01, n_estimators=25 \n",
      "[CV]  bootstrap=True, max_depth=50, max_features=0.01, n_estimators=20, total=   1.3s\n",
      "[CV] bootstrap=True, max_depth=50, max_features=0.01, n_estimators=25 \n",
      "[CV]  bootstrap=True, max_depth=50, max_features=0.01, n_estimators=20, total=   1.3s\n",
      "[CV] bootstrap=True, max_depth=50, max_features=0.01, n_estimators=25 \n",
      "[CV]  bootstrap=True, max_depth=50, max_features=0.01, n_estimators=20, total=   1.3s\n",
      "[CV] bootstrap=True, max_depth=50, max_features=0.01, n_estimators=30 \n",
      "[CV]  bootstrap=True, max_depth=50, max_features=0.01, n_estimators=25, total=   1.8s\n",
      "[CV] bootstrap=True, max_depth=50, max_features=0.01, n_estimators=30 \n",
      "[CV]  bootstrap=True, max_depth=50, max_features=0.01, n_estimators=25, total=   1.5s\n",
      "[CV] bootstrap=True, max_depth=50, max_features=0.01, n_estimators=30 \n",
      "[CV]  bootstrap=True, max_depth=50, max_features=0.01, n_estimators=25, total=   1.4s\n",
      "[CV] bootstrap=True, max_depth=50, max_features=0.5, n_estimators=10 .\n",
      "[CV]  bootstrap=True, max_depth=50, max_features=0.01, n_estimators=30, total=   1.8s\n",
      "[CV] bootstrap=True, max_depth=50, max_features=0.5, n_estimators=10 .\n",
      "[CV]  bootstrap=True, max_depth=50, max_features=0.01, n_estimators=30, total=   1.7s\n",
      "[CV] bootstrap=True, max_depth=50, max_features=0.5, n_estimators=10 .\n",
      "[CV]  bootstrap=True, max_depth=50, max_features=0.01, n_estimators=30, total=   1.7s\n",
      "[CV] bootstrap=True, max_depth=50, max_features=0.5, n_estimators=15 .\n",
      "[CV]  bootstrap=True, max_depth=50, max_features=0.5, n_estimators=10, total=   2.5s\n",
      "[CV] bootstrap=True, max_depth=50, max_features=0.5, n_estimators=15 .\n",
      "[CV]  bootstrap=True, max_depth=50, max_features=0.5, n_estimators=10, total=   2.6s\n",
      "[CV] bootstrap=True, max_depth=50, max_features=0.5, n_estimators=15 .\n",
      "[CV]  bootstrap=True, max_depth=50, max_features=0.5, n_estimators=10, total=   2.6s\n",
      "[CV] bootstrap=True, max_depth=50, max_features=0.5, n_estimators=20 .\n",
      "[CV]  bootstrap=True, max_depth=50, max_features=0.5, n_estimators=15, total=   3.8s\n",
      "[CV] bootstrap=True, max_depth=50, max_features=0.5, n_estimators=20 .\n"
     ]
    },
    {
     "name": "stderr",
     "output_type": "stream",
     "text": [
      "[Parallel(n_jobs=-1)]: Done 154 tasks      | elapsed:  2.1min\n"
     ]
    },
    {
     "name": "stdout",
     "output_type": "stream",
     "text": [
      "[CV]  bootstrap=True, max_depth=50, max_features=0.5, n_estimators=15, total=   3.8s\n",
      "[CV] bootstrap=True, max_depth=50, max_features=0.5, n_estimators=20 .\n",
      "[CV]  bootstrap=True, max_depth=50, max_features=0.5, n_estimators=15, total=   3.9s\n",
      "[CV] bootstrap=True, max_depth=50, max_features=0.5, n_estimators=25 .\n",
      "[CV]  bootstrap=True, max_depth=50, max_features=0.5, n_estimators=20, total=   4.6s\n",
      "[CV] bootstrap=True, max_depth=50, max_features=0.5, n_estimators=25 .\n",
      "[CV]  bootstrap=True, max_depth=50, max_features=0.5, n_estimators=20, total=   4.7s\n",
      "[CV] bootstrap=True, max_depth=50, max_features=0.5, n_estimators=25 .\n",
      "[CV]  bootstrap=True, max_depth=50, max_features=0.5, n_estimators=20, total=   4.7s\n",
      "[CV] bootstrap=True, max_depth=50, max_features=0.5, n_estimators=30 .\n",
      "[CV]  bootstrap=True, max_depth=50, max_features=0.5, n_estimators=25, total=   6.1s\n",
      "[CV] bootstrap=True, max_depth=50, max_features=0.5, n_estimators=30 .\n",
      "[CV]  bootstrap=True, max_depth=50, max_features=0.5, n_estimators=25, total=   6.5s\n",
      "[CV] bootstrap=True, max_depth=50, max_features=0.5, n_estimators=30 .\n",
      "[CV]  bootstrap=True, max_depth=50, max_features=0.5, n_estimators=25, total=   6.5s\n",
      "[CV] bootstrap=True, max_depth=50, max_features=0.99, n_estimators=10 \n",
      "[CV]  bootstrap=True, max_depth=50, max_features=0.5, n_estimators=30, total=   7.5s\n",
      "[CV] bootstrap=True, max_depth=50, max_features=0.99, n_estimators=10 \n",
      "[CV]  bootstrap=True, max_depth=50, max_features=0.5, n_estimators=30, total=   7.4s\n",
      "[CV] bootstrap=True, max_depth=50, max_features=0.99, n_estimators=10 \n",
      "[CV]  bootstrap=True, max_depth=50, max_features=0.99, n_estimators=10, total=   4.6s\n",
      "[CV] bootstrap=True, max_depth=50, max_features=0.99, n_estimators=15 \n",
      "[CV]  bootstrap=True, max_depth=50, max_features=0.5, n_estimators=30, total=   7.4s\n",
      "[CV] bootstrap=True, max_depth=50, max_features=0.99, n_estimators=15 \n",
      "[CV]  bootstrap=True, max_depth=50, max_features=0.99, n_estimators=10, total=   4.8s\n",
      "[CV] bootstrap=True, max_depth=50, max_features=0.99, n_estimators=15 \n",
      "[CV]  bootstrap=True, max_depth=50, max_features=0.99, n_estimators=10, total=   4.8s\n",
      "[CV] bootstrap=True, max_depth=50, max_features=0.99, n_estimators=20 \n",
      "[CV]  bootstrap=True, max_depth=50, max_features=0.99, n_estimators=15, total=   7.1s\n",
      "[CV] bootstrap=True, max_depth=50, max_features=0.99, n_estimators=20 \n",
      "[CV]  bootstrap=True, max_depth=50, max_features=0.99, n_estimators=15, total=   7.2s\n",
      "[CV] bootstrap=True, max_depth=50, max_features=0.99, n_estimators=20 \n",
      "[CV]  bootstrap=True, max_depth=50, max_features=0.99, n_estimators=15, total=   7.5s\n",
      "[CV] bootstrap=True, max_depth=50, max_features=0.99, n_estimators=25 \n",
      "[CV]  bootstrap=True, max_depth=50, max_features=0.99, n_estimators=20, total=   9.4s\n",
      "[CV] bootstrap=True, max_depth=50, max_features=0.99, n_estimators=25 \n",
      "[CV]  bootstrap=True, max_depth=50, max_features=0.99, n_estimators=20, total=   9.6s\n",
      "[CV] bootstrap=True, max_depth=50, max_features=0.99, n_estimators=25 \n",
      "[CV]  bootstrap=True, max_depth=50, max_features=0.99, n_estimators=20, total=   9.5s\n",
      "[CV] bootstrap=True, max_depth=50, max_features=0.99, n_estimators=30 \n",
      "[CV]  bootstrap=True, max_depth=50, max_features=0.99, n_estimators=25, total=  11.6s\n",
      "[CV] bootstrap=True, max_depth=50, max_features=0.99, n_estimators=30 \n",
      "[CV]  bootstrap=True, max_depth=50, max_features=0.99, n_estimators=25, total=  11.4s\n",
      "[CV] bootstrap=True, max_depth=50, max_features=0.99, n_estimators=30 \n",
      "[CV]  bootstrap=True, max_depth=50, max_features=0.99, n_estimators=25, total=  11.0s\n",
      "[CV] bootstrap=True, max_depth=60, max_features=auto, n_estimators=10 \n",
      "[CV]  bootstrap=True, max_depth=60, max_features=auto, n_estimators=10, total=   1.1s\n",
      "[CV] bootstrap=True, max_depth=60, max_features=auto, n_estimators=10 \n",
      "[CV]  bootstrap=True, max_depth=60, max_features=auto, n_estimators=10, total=   1.1s\n",
      "[CV] bootstrap=True, max_depth=60, max_features=auto, n_estimators=10 \n",
      "[CV]  bootstrap=True, max_depth=50, max_features=0.99, n_estimators=30, total=  12.8s\n",
      "[CV] bootstrap=True, max_depth=60, max_features=auto, n_estimators=15 \n",
      "[CV]  bootstrap=True, max_depth=60, max_features=auto, n_estimators=10, total=   1.1s\n",
      "[CV] bootstrap=True, max_depth=60, max_features=auto, n_estimators=15 \n",
      "[CV]  bootstrap=True, max_depth=60, max_features=auto, n_estimators=15, total=   1.6s\n",
      "[CV] bootstrap=True, max_depth=60, max_features=auto, n_estimators=15 \n",
      "[CV]  bootstrap=True, max_depth=60, max_features=auto, n_estimators=15, total=   1.5s\n",
      "[CV] bootstrap=True, max_depth=60, max_features=auto, n_estimators=20 \n",
      "[CV]  bootstrap=True, max_depth=50, max_features=0.99, n_estimators=30, total=  12.7s\n",
      "[CV] bootstrap=True, max_depth=60, max_features=auto, n_estimators=20 \n",
      "[CV]  bootstrap=True, max_depth=60, max_features=auto, n_estimators=15, total=   1.5s\n",
      "[CV] bootstrap=True, max_depth=60, max_features=auto, n_estimators=20 \n",
      "[CV]  bootstrap=True, max_depth=60, max_features=auto, n_estimators=20, total=   2.1s\n",
      "[CV] bootstrap=True, max_depth=60, max_features=auto, n_estimators=25 \n",
      "[CV]  bootstrap=True, max_depth=60, max_features=auto, n_estimators=20, total=   2.1s\n",
      "[CV] bootstrap=True, max_depth=60, max_features=auto, n_estimators=25 \n",
      "[CV]  bootstrap=True, max_depth=60, max_features=auto, n_estimators=20, total=   2.0s\n",
      "[CV] bootstrap=True, max_depth=60, max_features=auto, n_estimators=25 \n",
      "[CV]  bootstrap=True, max_depth=50, max_features=0.99, n_estimators=30, total=  13.0s\n",
      "[CV] bootstrap=True, max_depth=60, max_features=auto, n_estimators=30 \n",
      "[CV]  bootstrap=True, max_depth=60, max_features=auto, n_estimators=25, total=   2.7s\n",
      "[CV] bootstrap=True, max_depth=60, max_features=auto, n_estimators=30 \n",
      "[CV]  bootstrap=True, max_depth=60, max_features=auto, n_estimators=25, total=   2.6s\n",
      "[CV] bootstrap=True, max_depth=60, max_features=auto, n_estimators=30 \n",
      "[CV]  bootstrap=True, max_depth=60, max_features=auto, n_estimators=25, total=   2.7s\n",
      "[CV] bootstrap=True, max_depth=60, max_features=sqrt, n_estimators=10 \n",
      "[CV]  bootstrap=True, max_depth=60, max_features=sqrt, n_estimators=10, total=   1.2s\n",
      "[CV] bootstrap=True, max_depth=60, max_features=sqrt, n_estimators=10 \n",
      "[CV]  bootstrap=True, max_depth=60, max_features=auto, n_estimators=30, total=   3.5s\n",
      "[CV] bootstrap=True, max_depth=60, max_features=sqrt, n_estimators=10 \n",
      "[CV]  bootstrap=True, max_depth=60, max_features=sqrt, n_estimators=10, total=   1.3s\n",
      "[CV] bootstrap=True, max_depth=60, max_features=sqrt, n_estimators=15 \n",
      "[CV]  bootstrap=True, max_depth=60, max_features=auto, n_estimators=30, total=   3.4s\n",
      "[CV] bootstrap=True, max_depth=60, max_features=sqrt, n_estimators=15 \n",
      "[CV]  bootstrap=True, max_depth=60, max_features=auto, n_estimators=30, total=   3.5s\n",
      "[CV] bootstrap=True, max_depth=60, max_features=sqrt, n_estimators=15 \n",
      "[CV]  bootstrap=True, max_depth=60, max_features=sqrt, n_estimators=10, total=   1.3s\n",
      "[CV] bootstrap=True, max_depth=60, max_features=sqrt, n_estimators=20 \n",
      "[CV]  bootstrap=True, max_depth=60, max_features=sqrt, n_estimators=15, total=   1.7s\n",
      "[CV] bootstrap=True, max_depth=60, max_features=sqrt, n_estimators=20 \n",
      "[CV]  bootstrap=True, max_depth=60, max_features=sqrt, n_estimators=15, total=   1.6s\n",
      "[CV] bootstrap=True, max_depth=60, max_features=sqrt, n_estimators=20 \n",
      "[CV]  bootstrap=True, max_depth=60, max_features=sqrt, n_estimators=15, total=   1.6s\n",
      "[CV] bootstrap=True, max_depth=60, max_features=sqrt, n_estimators=25 \n",
      "[CV]  bootstrap=True, max_depth=60, max_features=sqrt, n_estimators=20, total=   2.2s\n",
      "[CV] bootstrap=True, max_depth=60, max_features=sqrt, n_estimators=25 \n",
      "[CV]  bootstrap=True, max_depth=60, max_features=sqrt, n_estimators=20, total=   2.2s\n",
      "[CV] bootstrap=True, max_depth=60, max_features=sqrt, n_estimators=25 \n",
      "[CV]  bootstrap=True, max_depth=60, max_features=sqrt, n_estimators=20, total=   2.2s\n",
      "[CV] bootstrap=True, max_depth=60, max_features=sqrt, n_estimators=30 \n",
      "[CV]  bootstrap=True, max_depth=60, max_features=sqrt, n_estimators=25, total=   2.6s\n",
      "[CV] bootstrap=True, max_depth=60, max_features=sqrt, n_estimators=30 \n",
      "[CV]  bootstrap=True, max_depth=60, max_features=sqrt, n_estimators=25, total=   2.7s\n",
      "[CV] bootstrap=True, max_depth=60, max_features=sqrt, n_estimators=30 \n",
      "[CV]  bootstrap=True, max_depth=60, max_features=sqrt, n_estimators=25, total=   2.5s\n",
      "[CV] bootstrap=True, max_depth=60, max_features=log2, n_estimators=10 \n",
      "[CV]  bootstrap=True, max_depth=60, max_features=sqrt, n_estimators=30, total=   3.0s\n",
      "[CV] bootstrap=True, max_depth=60, max_features=log2, n_estimators=10 \n",
      "[CV]  bootstrap=True, max_depth=60, max_features=log2, n_estimators=10, total=   1.1s\n",
      "[CV] bootstrap=True, max_depth=60, max_features=log2, n_estimators=10 \n",
      "[CV]  bootstrap=True, max_depth=60, max_features=sqrt, n_estimators=30, total=   3.0s\n",
      "[CV] bootstrap=True, max_depth=60, max_features=log2, n_estimators=15 \n",
      "[CV]  bootstrap=True, max_depth=60, max_features=log2, n_estimators=10, total=   1.0s\n",
      "[CV] bootstrap=True, max_depth=60, max_features=log2, n_estimators=15 \n",
      "[CV]  bootstrap=True, max_depth=60, max_features=log2, n_estimators=10, total=   1.1s\n",
      "[CV] bootstrap=True, max_depth=60, max_features=log2, n_estimators=15 \n",
      "[CV]  bootstrap=True, max_depth=60, max_features=sqrt, n_estimators=30, total=   3.3s\n",
      "[CV] bootstrap=True, max_depth=60, max_features=log2, n_estimators=20 \n",
      "[CV]  bootstrap=True, max_depth=60, max_features=log2, n_estimators=15, total=   1.6s\n",
      "[CV] bootstrap=True, max_depth=60, max_features=log2, n_estimators=20 \n",
      "[CV]  bootstrap=True, max_depth=60, max_features=log2, n_estimators=15, total=   1.5s\n",
      "[CV] bootstrap=True, max_depth=60, max_features=log2, n_estimators=20 \n",
      "[CV]  bootstrap=True, max_depth=60, max_features=log2, n_estimators=15, total=   1.6s\n",
      "[CV] bootstrap=True, max_depth=60, max_features=log2, n_estimators=25 \n",
      "[CV]  bootstrap=True, max_depth=60, max_features=log2, n_estimators=20, total=   2.3s\n",
      "[CV] bootstrap=True, max_depth=60, max_features=log2, n_estimators=25 \n",
      "[CV]  bootstrap=True, max_depth=60, max_features=log2, n_estimators=20, total=   2.2s\n",
      "[CV] bootstrap=True, max_depth=60, max_features=log2, n_estimators=25 \n",
      "[CV]  bootstrap=True, max_depth=60, max_features=log2, n_estimators=20, total=   2.2s\n",
      "[CV] bootstrap=True, max_depth=60, max_features=log2, n_estimators=30 \n",
      "[CV]  bootstrap=True, max_depth=60, max_features=log2, n_estimators=25, total=   2.7s\n",
      "[CV] bootstrap=True, max_depth=60, max_features=log2, n_estimators=30 \n",
      "[CV]  bootstrap=True, max_depth=60, max_features=log2, n_estimators=25, total=   3.0s\n",
      "[CV]  bootstrap=True, max_depth=60, max_features=log2, n_estimators=25, total=   2.9s\n",
      "[CV] bootstrap=True, max_depth=60, max_features=log2, n_estimators=30 \n",
      "[CV] bootstrap=True, max_depth=60, max_features=0.01, n_estimators=10 \n",
      "[CV]  bootstrap=True, max_depth=60, max_features=0.01, n_estimators=10, total=   0.6s\n",
      "[CV] bootstrap=True, max_depth=60, max_features=0.01, n_estimators=10 \n",
      "[CV]  bootstrap=True, max_depth=60, max_features=log2, n_estimators=30, total=   3.3s\n",
      "[CV] bootstrap=True, max_depth=60, max_features=0.01, n_estimators=10 \n",
      "[CV]  bootstrap=True, max_depth=60, max_features=0.01, n_estimators=10, total=   0.7s\n",
      "[CV] bootstrap=True, max_depth=60, max_features=0.01, n_estimators=15 \n",
      "[CV]  bootstrap=True, max_depth=60, max_features=0.01, n_estimators=10, total=   0.7s\n",
      "[CV] bootstrap=True, max_depth=60, max_features=0.01, n_estimators=15 \n",
      "[CV]  bootstrap=True, max_depth=60, max_features=log2, n_estimators=30, total=   3.3s\n",
      "[CV] bootstrap=True, max_depth=60, max_features=0.01, n_estimators=15 \n",
      "[CV]  bootstrap=True, max_depth=60, max_features=0.01, n_estimators=15, total=   0.9s\n",
      "[CV] bootstrap=True, max_depth=60, max_features=0.01, n_estimators=20 \n",
      "[CV]  bootstrap=True, max_depth=60, max_features=0.01, n_estimators=15, total=   0.9s\n",
      "[CV] bootstrap=True, max_depth=60, max_features=0.01, n_estimators=20 \n",
      "[CV]  bootstrap=True, max_depth=60, max_features=0.01, n_estimators=15, total=   0.9s\n",
      "[CV] bootstrap=True, max_depth=60, max_features=0.01, n_estimators=20 \n",
      "[CV]  bootstrap=True, max_depth=60, max_features=log2, n_estimators=30, total=   3.1s\n",
      "[CV] bootstrap=True, max_depth=60, max_features=0.01, n_estimators=25 \n",
      "[CV]  bootstrap=True, max_depth=60, max_features=0.01, n_estimators=20, total=   1.1s\n",
      "[CV] bootstrap=True, max_depth=60, max_features=0.01, n_estimators=25 \n",
      "[CV]  bootstrap=True, max_depth=60, max_features=0.01, n_estimators=20, total=   1.2s\n",
      "[CV] bootstrap=True, max_depth=60, max_features=0.01, n_estimators=25 \n",
      "[CV]  bootstrap=True, max_depth=60, max_features=0.01, n_estimators=20, total=   1.2s\n",
      "[CV] bootstrap=True, max_depth=60, max_features=0.01, n_estimators=30 \n",
      "[CV]  bootstrap=True, max_depth=60, max_features=0.01, n_estimators=25, total=   1.5s\n",
      "[CV] bootstrap=True, max_depth=60, max_features=0.01, n_estimators=30 \n",
      "[CV]  bootstrap=True, max_depth=60, max_features=0.01, n_estimators=25, total=   1.4s\n",
      "[CV] bootstrap=True, max_depth=60, max_features=0.01, n_estimators=30 \n",
      "[CV]  bootstrap=True, max_depth=60, max_features=0.01, n_estimators=25, total=   1.5s\n",
      "[CV] bootstrap=True, max_depth=60, max_features=0.5, n_estimators=10 .\n",
      "[CV]  bootstrap=True, max_depth=60, max_features=0.01, n_estimators=30, total=   1.8s\n",
      "[CV] bootstrap=True, max_depth=60, max_features=0.5, n_estimators=10 .\n",
      "[CV]  bootstrap=True, max_depth=60, max_features=0.01, n_estimators=30, total=   1.7s\n",
      "[CV] bootstrap=True, max_depth=60, max_features=0.5, n_estimators=10 .\n",
      "[CV]  bootstrap=True, max_depth=60, max_features=0.01, n_estimators=30, total=   1.7s\n",
      "[CV] bootstrap=True, max_depth=60, max_features=0.5, n_estimators=15 .\n",
      "[CV]  bootstrap=True, max_depth=60, max_features=0.5, n_estimators=10, total=   2.3s\n",
      "[CV] bootstrap=True, max_depth=60, max_features=0.5, n_estimators=15 .\n",
      "[CV]  bootstrap=True, max_depth=60, max_features=0.5, n_estimators=10, total=   2.4s\n",
      "[CV] bootstrap=True, max_depth=60, max_features=0.5, n_estimators=15 .\n",
      "[CV]  bootstrap=True, max_depth=60, max_features=0.5, n_estimators=10, total=   2.4s\n",
      "[CV] bootstrap=True, max_depth=60, max_features=0.5, n_estimators=20 .\n",
      "[CV]  bootstrap=True, max_depth=60, max_features=0.5, n_estimators=15, total=   3.8s\n",
      "[CV] bootstrap=True, max_depth=60, max_features=0.5, n_estimators=20 .\n",
      "[CV]  bootstrap=True, max_depth=60, max_features=0.5, n_estimators=15, total=   3.9s\n",
      "[CV] bootstrap=True, max_depth=60, max_features=0.5, n_estimators=20 .\n",
      "[CV]  bootstrap=True, max_depth=60, max_features=0.5, n_estimators=15, total=   3.8s\n",
      "[CV] bootstrap=True, max_depth=60, max_features=0.5, n_estimators=25 .\n",
      "[CV]  bootstrap=True, max_depth=60, max_features=0.5, n_estimators=20, total=   5.1s\n",
      "[CV] bootstrap=True, max_depth=60, max_features=0.5, n_estimators=25 .\n",
      "[CV]  bootstrap=True, max_depth=60, max_features=0.5, n_estimators=20, total=   5.4s\n",
      "[CV] bootstrap=True, max_depth=60, max_features=0.5, n_estimators=25 .\n",
      "[CV]  bootstrap=True, max_depth=60, max_features=0.5, n_estimators=20, total=   5.4s\n",
      "[CV] bootstrap=True, max_depth=60, max_features=0.5, n_estimators=30 .\n",
      "[CV]  bootstrap=True, max_depth=60, max_features=0.5, n_estimators=25, total=   6.9s\n",
      "[CV] bootstrap=True, max_depth=60, max_features=0.5, n_estimators=30 .\n",
      "[CV]  bootstrap=True, max_depth=60, max_features=0.5, n_estimators=25, total=   7.1s\n",
      "[CV] bootstrap=True, max_depth=60, max_features=0.5, n_estimators=30 .\n",
      "[CV]  bootstrap=True, max_depth=60, max_features=0.5, n_estimators=25, total=   7.3s\n",
      "[CV] bootstrap=True, max_depth=60, max_features=0.99, n_estimators=10 \n",
      "[CV]  bootstrap=True, max_depth=60, max_features=0.5, n_estimators=30, total=   8.5s\n",
      "[CV] bootstrap=True, max_depth=60, max_features=0.99, n_estimators=10 \n",
      "[CV]  bootstrap=True, max_depth=60, max_features=0.5, n_estimators=30, total=   8.8s\n",
      "[CV] bootstrap=True, max_depth=60, max_features=0.99, n_estimators=10 \n",
      "[CV]  bootstrap=True, max_depth=60, max_features=0.99, n_estimators=10, total=   5.6s\n",
      "[CV] bootstrap=True, max_depth=60, max_features=0.99, n_estimators=15 \n",
      "[CV]  bootstrap=True, max_depth=60, max_features=0.5, n_estimators=30, total=   8.7s\n",
      "[CV] bootstrap=True, max_depth=60, max_features=0.99, n_estimators=15 \n",
      "[CV]  bootstrap=True, max_depth=60, max_features=0.99, n_estimators=10, total=   5.5s\n",
      "[CV] bootstrap=True, max_depth=60, max_features=0.99, n_estimators=15 \n",
      "[CV]  bootstrap=True, max_depth=60, max_features=0.99, n_estimators=10, total=   5.7s\n",
      "[CV] bootstrap=True, max_depth=60, max_features=0.99, n_estimators=20 \n",
      "[CV]  bootstrap=True, max_depth=60, max_features=0.99, n_estimators=15, total=   8.5s\n",
      "[CV] bootstrap=True, max_depth=60, max_features=0.99, n_estimators=20 \n",
      "[CV]  bootstrap=True, max_depth=60, max_features=0.99, n_estimators=15, total=   8.8s\n",
      "[CV] bootstrap=True, max_depth=60, max_features=0.99, n_estimators=20 \n",
      "[CV]  bootstrap=True, max_depth=60, max_features=0.99, n_estimators=15, total=   8.7s\n",
      "[CV] bootstrap=True, max_depth=60, max_features=0.99, n_estimators=25 \n",
      "[CV]  bootstrap=True, max_depth=60, max_features=0.99, n_estimators=20, total=  13.0s\n",
      "[CV] bootstrap=True, max_depth=60, max_features=0.99, n_estimators=25 \n",
      "[CV]  bootstrap=True, max_depth=60, max_features=0.99, n_estimators=20, total=  13.3s\n",
      "[CV] bootstrap=True, max_depth=60, max_features=0.99, n_estimators=25 \n",
      "[CV]  bootstrap=True, max_depth=60, max_features=0.99, n_estimators=20, total=  13.3s\n",
      "[CV] bootstrap=True, max_depth=60, max_features=0.99, n_estimators=30 \n",
      "[CV]  bootstrap=True, max_depth=60, max_features=0.99, n_estimators=25, total=  16.2s\n",
      "[CV] bootstrap=True, max_depth=60, max_features=0.99, n_estimators=30 \n",
      "[CV]  bootstrap=True, max_depth=60, max_features=0.99, n_estimators=25, total=  16.2s\n",
      "[CV] bootstrap=True, max_depth=60, max_features=0.99, n_estimators=30 \n",
      "[CV]  bootstrap=True, max_depth=60, max_features=0.99, n_estimators=25, total=  17.6s\n",
      "[CV]  bootstrap=True, max_depth=60, max_features=0.99, n_estimators=30, total=  20.7s\n",
      "[CV]  bootstrap=True, max_depth=60, max_features=0.99, n_estimators=30, total=  20.6s\n",
      "[CV]  bootstrap=True, max_depth=60, max_features=0.99, n_estimators=30, total=  18.2s\n"
     ]
    },
    {
     "name": "stderr",
     "output_type": "stream",
     "text": [
      "[Parallel(n_jobs=-1)]: Done 270 out of 270 | elapsed:  4.8min finished\n"
     ]
    },
    {
     "data": {
      "text/plain": [
       "GridSearchCV(cv=3, error_score='raise',\n",
       "       estimator=RandomForestClassifier(bootstrap=True, class_weight=None, criterion='gini',\n",
       "            max_depth=None, max_features='auto', max_leaf_nodes=None,\n",
       "            min_impurity_decrease=0.0, min_impurity_split=None,\n",
       "            min_samples_leaf=1, min_samples_split=2,\n",
       "            min_weight_fraction_leaf=0.0, n_estimators=10, n_jobs=1,\n",
       "            oob_score=False, random_state=None, verbose=0,\n",
       "            warm_start=False),\n",
       "       fit_params=None, iid=True, n_jobs=-1,\n",
       "       param_grid={'bootstrap': [True], 'max_depth': [40, 50, 60], 'max_features': ['auto', 'sqrt', 'log2', 0.01, 0.5, 0.99], 'n_estimators': [10, 15, 20, 25, 30]},\n",
       "       pre_dispatch='2*n_jobs', refit=True, return_train_score='warn',\n",
       "       scoring=None, verbose=2)"
      ]
     },
     "execution_count": 48,
     "metadata": {},
     "output_type": "execute_result"
    }
   ],
   "source": [
    "#Fit the model on training data\n",
    "grid_search.fit(X_train, y_train)"
   ]
  },
  {
   "cell_type": "code",
   "execution_count": 49,
   "metadata": {},
   "outputs": [
    {
     "name": "stdout",
     "output_type": "stream",
     "text": [
      "Test set score: 0.96\n"
     ]
    }
   ],
   "source": [
    "#validate the new score of model\n",
    "print(\"Test set score: {:.2f}\".format(grid_search.score(X_test, y_test)))"
   ]
  },
  {
   "cell_type": "code",
   "execution_count": 50,
   "metadata": {},
   "outputs": [
    {
     "name": "stdout",
     "output_type": "stream",
     "text": [
      "Best parameters: {'bootstrap': True, 'max_depth': 40, 'max_features': 0.99, 'n_estimators': 20}\n",
      "Best cross-validation score: 0.96\n"
     ]
    }
   ],
   "source": [
    "print(\"Best parameters: {}\".format(grid_search.best_params_))\n",
    "print(\"Best cross-validation score: {:.2f}\".format(grid_search.best_score_))"
   ]
  },
  {
   "cell_type": "code",
   "execution_count": 51,
   "metadata": {},
   "outputs": [
    {
     "name": "stdout",
     "output_type": "stream",
     "text": [
      "Best estimator:\n",
      "RandomForestClassifier(bootstrap=True, class_weight=None, criterion='gini',\n",
      "            max_depth=40, max_features=0.99, max_leaf_nodes=None,\n",
      "            min_impurity_decrease=0.0, min_impurity_split=None,\n",
      "            min_samples_leaf=1, min_samples_split=2,\n",
      "            min_weight_fraction_leaf=0.0, n_estimators=20, n_jobs=1,\n",
      "            oob_score=False, random_state=None, verbose=0,\n",
      "            warm_start=False)\n"
     ]
    }
   ],
   "source": [
    "print(\"Best estimator:\\n{}\".format(grid_search.best_estimator_))"
   ]
  },
  {
   "cell_type": "markdown",
   "metadata": {},
   "source": [
    "### Re-training Model with best parameters"
   ]
  },
  {
   "cell_type": "code",
   "execution_count": 52,
   "metadata": {},
   "outputs": [],
   "source": [
    "#Train the random forest classifier on training dataset\n",
    "rf_tuned = RandomForestClassifier(bootstrap=True, class_weight=None, criterion='gini',\n",
    "            max_depth=40, max_features=0.99, max_leaf_nodes=None,\n",
    "            min_impurity_decrease=0.0, min_impurity_split=None,\n",
    "            min_samples_leaf=1, min_samples_split=2,\n",
    "            min_weight_fraction_leaf=0.0, n_estimators=20, n_jobs=1,\n",
    "            oob_score=False, random_state=None, verbose=0,\n",
    "            warm_start=False).fit(X_train,y_train)\n",
    "#validate the model performance on unseen data\n",
    "rf_tuned.score(X_test, y_test)\n",
    "#make predictions on unseen data\n",
    "tuned_predictions=rf_tuned.predict(X_test)"
   ]
  },
  {
   "cell_type": "markdown",
   "metadata": {},
   "source": [
    "### Results on Tuned Model "
   ]
  },
  {
   "cell_type": "code",
   "execution_count": 53,
   "metadata": {},
   "outputs": [
    {
     "name": "stdout",
     "output_type": "stream",
     "text": [
      "[[41071    18]\n",
      " [ 1975  2270]]\n",
      "             precision    recall  f1-score   support\n",
      "\n",
      "    Genuine       0.95      1.00      0.98     41089\n",
      "      Fraud       0.99      0.53      0.69      4245\n",
      "\n",
      "avg / total       0.96      0.96      0.95     45334\n",
      "\n"
     ]
    }
   ],
   "source": [
    "print(confusion_matrix(y_test, tuned_predictions))\n",
    "print(classification_report(y_test, tuned_predictions,target_names=[\"Genuine\", \"Fraud\"]))\n"
   ]
  },
  {
   "cell_type": "code",
   "execution_count": null,
   "metadata": {},
   "outputs": [],
   "source": []
  }
 ],
 "metadata": {
  "kernelspec": {
   "display_name": "Python 3",
   "language": "python",
   "name": "python3"
  },
  "language_info": {
   "codemirror_mode": {
    "name": "ipython",
    "version": 3
   },
   "file_extension": ".py",
   "mimetype": "text/x-python",
   "name": "python",
   "nbconvert_exporter": "python",
   "pygments_lexer": "ipython3",
   "version": "3.6.3"
  }
 },
 "nbformat": 4,
 "nbformat_minor": 2
}
