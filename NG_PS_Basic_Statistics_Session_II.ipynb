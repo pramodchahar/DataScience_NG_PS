{
 "cells": [
  {
   "cell_type": "code",
   "execution_count": null,
   "metadata": {},
   "outputs": [],
   "source": [
    "!pip install --user numpy scipy matplotlib ipython jupyter pandas sympy nose"
   ]
  },
  {
   "cell_type": "code",
   "execution_count": 39,
   "metadata": {
    "collapsed": true
   },
   "outputs": [],
   "source": [
    "from scipy.stats import binom\n",
    "import numpy as np"
   ]
  },
  {
   "cell_type": "code",
   "execution_count": 40,
   "metadata": {
    "collapsed": true
   },
   "outputs": [],
   "source": [
    "from scipy import stats\n",
    "import matplotlib.pyplot as plt"
   ]
  },
  {
   "cell_type": "markdown",
   "metadata": {},
   "source": [
    "## Mean"
   ]
  },
  {
   "cell_type": "code",
   "execution_count": 41,
   "metadata": {
    "collapsed": true
   },
   "outputs": [],
   "source": [
    "random_num=np.array([10,20,34,52,87])"
   ]
  },
  {
   "cell_type": "code",
   "execution_count": 42,
   "metadata": {},
   "outputs": [
    {
     "data": {
      "text/plain": [
       "40.600000000000001"
      ]
     },
     "execution_count": 42,
     "metadata": {},
     "output_type": "execute_result"
    }
   ],
   "source": [
    "random_num.mean()"
   ]
  },
  {
   "cell_type": "markdown",
   "metadata": {},
   "source": [
    "## Mode"
   ]
  },
  {
   "cell_type": "code",
   "execution_count": 43,
   "metadata": {},
   "outputs": [
    {
     "name": "stdout",
     "output_type": "stream",
     "text": [
      "Requirement already satisfied: statistics in /Applications/anaconda2/lib/python2.7/site-packages\r\n",
      "Requirement already satisfied: docutils>=0.3 in /Applications/anaconda2/lib/python2.7/site-packages (from statistics)\r\n"
     ]
    }
   ],
   "source": [
    "!pip install statistics"
   ]
  },
  {
   "cell_type": "code",
   "execution_count": 44,
   "metadata": {},
   "outputs": [
    {
     "data": {
      "text/plain": [
       "3"
      ]
     },
     "execution_count": 44,
     "metadata": {},
     "output_type": "execute_result"
    }
   ],
   "source": [
    "from statistics import mode\n",
    "mode([1, 1, 2, 3, 3, 3, 3, 4])"
   ]
  },
  {
   "cell_type": "markdown",
   "metadata": {},
   "source": [
    "# Median "
   ]
  },
  {
   "cell_type": "code",
   "execution_count": 46,
   "metadata": {},
   "outputs": [
    {
     "data": {
      "text/plain": [
       "35.5"
      ]
     },
     "execution_count": 46,
     "metadata": {},
     "output_type": "execute_result"
    }
   ],
   "source": [
    "from statistics import median\n",
    "median([10,20,34,37,52,87])"
   ]
  },
  {
   "cell_type": "markdown",
   "metadata": {},
   "source": [
    "# Standard Deviation"
   ]
  },
  {
   "cell_type": "code",
   "execution_count": 47,
   "metadata": {},
   "outputs": [
    {
     "data": {
      "text/plain": [
       "5.9320295523012181"
      ]
     },
     "execution_count": 47,
     "metadata": {},
     "output_type": "execute_result"
    }
   ],
   "source": [
    "mileage = np.array([21.0, 21.0, 22.8, 21.4, 18.7, 18.1, 14.3, 24.4, 22.8, 19.2, 17.8, 16.4, 17.3, 15.2, 10.4, 10.4, 14.7, 32.4, 30.4,\n",
    "       33.9, 21.5, 15.5, 15.2, 13.3, 19.2, 27.3, 26.0, 30.4, 15.8, 19.7, 15.0, 21.4])\n",
    "mileage.std()"
   ]
  },
  {
   "cell_type": "markdown",
   "metadata": {},
   "source": [
    "## Probability"
   ]
  },
  {
   "cell_type": "code",
   "execution_count": 11,
   "metadata": {},
   "outputs": [
    {
     "data": {
      "image/png": "[encoded data removed]",
      "text/plain": [
       "<matplotlib.figure.Figure at 0x10da149d0>"
      ]
     },
     "metadata": {},
     "output_type": "display_data"
    }
   ],
   "source": [
    "#generate the plot\n",
    "fig, ax = plt.subplots(1, 1)\n",
    "#Number of success events ( Heads)\n",
    "x = [0,1, 2, 3, 4, 5, 6]\n",
    "#Number of attempts and probability of getting head\n",
    "n, p = 6, 0.5\n",
    "#Binomial takes input (number of attempts and probability of success)and helps generate binomial distributions\n",
    "rv = binom(n, p)\n",
    "#calculating the probability at various values of x\n",
    "ax.vlines(x,0,rv.pmf(x),colors='b', linestyles='-', lw=1,\n",
    "          label='Probablity')\n",
    "\n",
    "#add the legend to the plot\n",
    "ax.legend(loc='best', frameon=False)\n",
    "#disply the plot\n",
    "plt.show()\n"
   ]
  },
  {
   "cell_type": "markdown",
   "metadata": {},
   "source": [
    "### The event with 3 success has max. probabily whereas events with None or all (6) success has least probability"
   ]
  },
  {
   "cell_type": "markdown",
   "metadata": {},
   "source": [
    "## Let's increase the number of attempts to 100 and see the distribution"
   ]
  },
  {
   "cell_type": "code",
   "execution_count": 6,
   "metadata": {},
   "outputs": [
    {
     "data": {
      "image/png": "[encoded data removed]",
      "text/plain": [
       "<matplotlib.figure.Figure at 0x7f3ce9a346d8>"
      ]
     },
     "metadata": {},
     "output_type": "display_data"
    }
   ],
   "source": [
    "#generate the plot\n",
    "fig, ax = plt.subplots(1, 1)\n",
    "#Number of postive events\n",
    "x = range(101)\n",
    "#Number of attempts and prbability of success\n",
    "n, p = 100, 0.5\n",
    "#Binomial takes input (number of attempts and probability of success)\n",
    "rv = binom(n, p)\n",
    "#calculating the probability at various values of x\n",
    "ax.vlines(x,0,rv.pmf(x),colors='b', linestyles='-', lw=1,\n",
    "          label='Probablity')\n",
    "\n",
    "#add the legend to the plot\n",
    "ax.legend(loc='best', frameon=False)\n",
    "#disply the plot\n",
    "plt.show()"
   ]
  },
  {
   "cell_type": "markdown",
   "metadata": {},
   "source": [
    "### Case I  :When you change the success of probability to 0.4"
   ]
  },
  {
   "cell_type": "code",
   "execution_count": 7,
   "metadata": {},
   "outputs": [
    {
     "data": {
      "image/png": "[encoded data removed]",
      "text/plain": [
       "<matplotlib.figure.Figure at 0x7f3ce9948748>"
      ]
     },
     "metadata": {},
     "output_type": "display_data"
    }
   ],
   "source": [
    "#generate the plot\n",
    "fig, ax = plt.subplots(1, 1)\n",
    "#Number of postive events\n",
    "x = range(101)\n",
    "#Number of attempts and prbability of success\n",
    "n, p = 100, 0.4\n",
    "#Binomial takes input (number of attempts and probability of success)\n",
    "rv = binom(n, p)\n",
    "#calculating the probability at various values of x\n",
    "ax.vlines(x,0,rv.pmf(x),colors='b', linestyles='-', lw=1,\n",
    "          label='Probablity')\n",
    "\n",
    "#add the legend to the plot\n",
    "ax.legend(loc='best', frameon=False)\n",
    "#disply the plot\n",
    "plt.show()"
   ]
  },
  {
   "cell_type": "markdown",
   "metadata": {},
   "source": [
    "### when you change the success of probability to 0.6"
   ]
  },
  {
   "cell_type": "code",
   "execution_count": 8,
   "metadata": {},
   "outputs": [
    {
     "data": {
      "image/png": "[encoded data removed]",
      "text/plain": [
       "<matplotlib.figure.Figure at 0x7f3ce9790c18>"
      ]
     },
     "metadata": {},
     "output_type": "display_data"
    }
   ],
   "source": [
    "#generate the plot\n",
    "fig, ax = plt.subplots(1, 1)\n",
    "#Number of postive events\n",
    "x = range(101)\n",
    "#Number of attempts and prbability of success\n",
    "n, p = 100, 0.6\n",
    "#Binomial takes input (number of attempts and probability of success)\n",
    "rv = binom(n, p)\n",
    "#calculating the probability at various values of x\n",
    "ax.vlines(x,0,rv.pmf(x),colors='b', linestyles='-', lw=1,\n",
    "          label='Probablity')\n",
    "\n",
    "#add the legend to the plot\n",
    "ax.legend(loc='best', frameon=False)\n",
    "#disply the plot\n",
    "plt.show()"
   ]
  },
  {
   "cell_type": "markdown",
   "metadata": {},
   "source": [
    "## Lets increase the events to 1000 and check the distribution"
   ]
  },
  {
   "cell_type": "code",
   "execution_count": 9,
   "metadata": {},
   "outputs": [
    {
     "data": {
      "image/png": "[encoded data removed]",
      "text/plain": [
       "<matplotlib.figure.Figure at 0x7f3ce973cf98>"
      ]
     },
     "metadata": {},
     "output_type": "display_data"
    }
   ],
   "source": [
    "#generate the plot\n",
    "fig, ax = plt.subplots(1, 1)\n",
    "#Number of postive events\n",
    "x = range(1001)\n",
    "#Number of attempts and prbability of success\n",
    "n, p = 1000, 0.5\n",
    "#Binomial takes input (number of attempts and probability of success)\n",
    "rv = binom(n, p)\n",
    "#calculating the probability at various values of x\n",
    "ax.vlines(x,0,rv.pmf(x),colors='b', linestyles='-', lw=1,\n",
    "          label='Probablity')\n",
    "\n",
    "#add the legend to the plot\n",
    "ax.legend(loc='best', frameon=False)\n",
    "#disply the plot\n",
    "plt.show()"
   ]
  },
  {
   "cell_type": "markdown",
   "metadata": {},
   "source": [
    "### As you can see, the binomial distribution has started to resemble a normal distribution"
   ]
  },
  {
   "cell_type": "markdown",
   "metadata": {},
   "source": [
    "### Z Score "
   ]
  },
  {
   "cell_type": "code",
   "execution_count": 10,
   "metadata": {
    "collapsed": true
   },
   "outputs": [],
   "source": [
    "score=np.random.normal(50,15,60).round()"
   ]
  },
  {
   "cell_type": "code",
   "execution_count": 11,
   "metadata": {},
   "outputs": [
    {
     "data": {
      "text/plain": [
       "array([ 33.,  44.,  51.,  43.,  50.,  56.,  48.,  48.,  53.,  57.,  61.,\n",
       "        49.,  56.,  63.,  56.,  34.,  36.,  52.,  48.,  59.,  32.,  50.,\n",
       "        45.,  35.,  59.,  41.,  76.,  45.,  54.,  35.,  52.,  41.,  49.,\n",
       "        36.,  68.,  72.,  72.,  58.,  47.,  46.,  49.,  65.,  47.,  59.,\n",
       "        45.,  40.,  47.,  55.,  65.,  44.,  56.,  40.,  50.,  60.,  89.,\n",
       "        79.,  61.,  65.,  75.,  32.])"
      ]
     },
     "execution_count": 11,
     "metadata": {},
     "output_type": "execute_result"
    }
   ],
   "source": [
    "score"
   ]
  },
  {
   "cell_type": "code",
   "execution_count": 12,
   "metadata": {},
   "outputs": [
    {
     "data": {
      "image/png": "[encoded data removed]",
      "text/plain": [
       "<matplotlib.figure.Figure at 0x7f3cebcb3ba8>"
      ]
     },
     "metadata": {},
     "output_type": "display_data"
    }
   ],
   "source": [
    "plt.hist(score,color='b')\n",
    "plt.show()"
   ]
  },
  {
   "cell_type": "code",
   "execution_count": 13,
   "metadata": {},
   "outputs": [
    {
     "data": {
      "text/plain": [
       "array([-1.56415965, -0.66880374, -0.09903179, -0.75019973, -0.18042778,\n",
       "        0.30794817, -0.34321977, -0.34321977,  0.06376019,  0.38934416,\n",
       "        0.71492813, -0.26182378,  0.30794817,  0.87772012,  0.30794817,\n",
       "       -1.48276366, -1.31997168, -0.0176358 , -0.34321977,  0.55213615,\n",
       "       -1.64555565, -0.18042778, -0.58740774, -1.40136767,  0.55213615,\n",
       "       -0.91299171,  1.93586802, -0.58740774,  0.14515619, -1.40136767,\n",
       "       -0.0176358 , -0.91299171, -0.26182378, -1.31997168,  1.28470008,\n",
       "        1.61028405,  1.61028405,  0.47074016, -0.42461576, -0.50601175,\n",
       "       -0.26182378,  1.0405121 , -0.42461576,  0.55213615, -0.58740774,\n",
       "       -0.99438771, -0.42461576,  0.22655218,  1.0405121 , -0.66880374,\n",
       "        0.30794817, -0.99438771, -0.18042778,  0.63353214,  2.99401592,\n",
       "        2.180056  ,  0.71492813,  1.0405121 ,  1.85447203, -1.64555565])"
      ]
     },
     "execution_count": 13,
     "metadata": {},
     "output_type": "execute_result"
    }
   ],
   "source": [
    "# Conversion of score to z score\n",
    "stats.zscore(score)"
   ]
  },
  {
   "cell_type": "code",
   "execution_count": 62,
   "metadata": {
    "collapsed": true
   },
   "outputs": [],
   "source": [
    "prob = 1 - stats.norm.cdf(2.99401592)"
   ]
  },
  {
   "cell_type": "code",
   "execution_count": 63,
   "metadata": {},
   "outputs": [
    {
     "data": {
      "text/plain": [
       "0.0013766578890936909"
      ]
     },
     "execution_count": 63,
     "metadata": {},
     "output_type": "execute_result"
    }
   ],
   "source": [
    "prob"
   ]
  },
  {
   "cell_type": "code",
   "execution_count": 16,
   "metadata": {},
   "outputs": [
    {
     "data": {
      "text/plain": [
       "2.3263478740408408"
      ]
     },
     "execution_count": 16,
     "metadata": {},
     "output_type": "execute_result"
    }
   ],
   "source": [
    "stats.norm.ppf(0.99)"
   ]
  },
  {
   "cell_type": "code",
   "execution_count": 17,
   "metadata": {},
   "outputs": [
    {
     "data": {
      "text/plain": [
       "80.842154638732552"
      ]
     },
     "execution_count": 17,
     "metadata": {},
     "output_type": "execute_result"
    }
   ],
   "source": [
    "(2.33 * score.std()) + score.mean()\n"
   ]
  },
  {
   "cell_type": "markdown",
   "metadata": {},
   "source": [
    "### Z score is used in standardizing any distribution so that it can be compared or inferences can be derived from it"
   ]
  },
  {
   "cell_type": "markdown",
   "metadata": {},
   "source": [
    "## P Value"
   ]
  },
  {
   "cell_type": "code",
   "execution_count": 18,
   "metadata": {
    "collapsed": true
   },
   "outputs": [],
   "source": [
    "# Null hypothesis : It is common to score 80 marks \n",
    "z_score=(80-score.mean())/score.std()"
   ]
  },
  {
   "cell_type": "code",
   "execution_count": 19,
   "metadata": {},
   "outputs": [
    {
     "data": {
      "text/plain": [
       "2.2614519874678929"
      ]
     },
     "execution_count": 19,
     "metadata": {},
     "output_type": "execute_result"
    }
   ],
   "source": [
    "z_score"
   ]
  },
  {
   "cell_type": "code",
   "execution_count": 20,
   "metadata": {},
   "outputs": [
    {
     "data": {
      "text/plain": [
       "0.011865641305548458"
      ]
     },
     "execution_count": 20,
     "metadata": {},
     "output_type": "execute_result"
    }
   ],
   "source": [
    "# calculate the probability\n",
    "prob=1-stats.norm.cdf(z_score)\n",
    "prob"
   ]
  },
  {
   "cell_type": "markdown",
   "metadata": {},
   "source": [
    "## 1.1 % Probability of some scoring 80\n",
    "\n",
    "### we reject the null hypothesis since the  probability is less than 5 %"
   ]
  },
  {
   "cell_type": "markdown",
   "metadata": {},
   "source": [
    "## Confidence Intervals"
   ]
  },
  {
   "cell_type": "code",
   "execution_count": 26,
   "metadata": {
    "collapsed": true
   },
   "outputs": [],
   "source": [
    "#Genrate a sample of 50 people, record their height, and then repeat this process 30 times\n",
    "avg_height=[]\n",
    "for i in range(31):\n",
    "    height=np.random.normal(180,10,50).round()\n",
    "    avg_height.append(height.mean())\n",
    "\n",
    "\n",
    "    "
   ]
  },
  {
   "cell_type": "code",
   "execution_count": 28,
   "metadata": {},
   "outputs": [
    {
     "data": {
      "image/png": "[encoded data removed]",
      "text/plain": [
       "<matplotlib.figure.Figure at 0x7f3ce971a2b0>"
      ]
     },
     "metadata": {},
     "output_type": "display_data"
    }
   ],
   "source": [
    "plt.hist(avg_height)\n",
    "plt.show()"
   ]
  },
  {
   "cell_type": "markdown",
   "metadata": {},
   "source": [
    "## Mean ranges from 178 to 183"
   ]
  },
  {
   "cell_type": "code",
   "execution_count": 33,
   "metadata": {
    "collapsed": true
   },
   "outputs": [],
   "source": [
    "## Repeat the process for 1000 men\n",
    "avg_height=[]\n",
    "for i in range(31):\n",
    "    height=np.random.normal(180,10,1000).round()\n",
    "    avg_height.append(height.mean())\n"
   ]
  },
  {
   "cell_type": "code",
   "execution_count": 37,
   "metadata": {},
   "outputs": [
    {
     "data": {
      "image/png": "[encoded data removed]",
      "text/plain": [
       "<matplotlib.figure.Figure at 0x7f3ce973c240>"
      ]
     },
     "metadata": {},
     "output_type": "display_data"
    }
   ],
   "source": [
    "plt.hist(avg_height,10,normed=True)\n",
    "plt.show()"
   ]
  },
  {
   "cell_type": "markdown",
   "metadata": {},
   "source": [
    "## Mean ranges from 179.5 to 180.5"
   ]
  },
  {
   "cell_type": "code",
   "execution_count": 38,
   "metadata": {
    "collapsed": true
   },
   "outputs": [],
   "source": [
    "## Repeat the process for 10000 men\n",
    "avg_height=[]\n",
    "for i in range(31):\n",
    "    height=np.random.normal(180,10,10000).round()\n",
    "    avg_height.append(height.mean())"
   ]
  },
  {
   "cell_type": "code",
   "execution_count": 39,
   "metadata": {},
   "outputs": [
    {
     "data": {
      "image/png": "[encoded data removed]",
      "text/plain": [
       "<matplotlib.figure.Figure at 0x7f3ce97cb588>"
      ]
     },
     "metadata": {},
     "output_type": "display_data"
    }
   ],
   "source": [
    "plt.hist(avg_height,10,normed=True)\n",
    "plt.show()"
   ]
  },
  {
   "cell_type": "markdown",
   "metadata": {},
   "source": [
    "## As the sample size increases, the standard error of the mean decreases, which also means that the confidence interval becomes narrower, and we can tell with certainty the interval that the population mean would lie on"
   ]
  },
  {
   "cell_type": "markdown",
   "metadata": {},
   "source": [
    "# Correlation"
   ]
  },
  {
   "cell_type": "code",
   "execution_count": 42,
   "metadata": {
    "collapsed": true
   },
   "outputs": [],
   "source": [
    "#lets explore if mileage has correlation with power of the car\n",
    "mileage = [21.0, 21.0, 22.8, 21.4, 18.7, 18.1, 14.3, 24.4, 22.8, 19.2, 17.8, 16.4, 17.3, 15.2, 10.4, 10.4, 14.7, 32.4, 30.4,\n",
    "       33.9, 21.5, 15.5, 15.2, 13.3, 19.2, 27.3, 26.0, 30.4, 15.8, 19.7, 15.0, 21.4]\n",
    "hs_power=[110, 110, 93, 110, 175, 105, 245, 62, 95, 123, 123, 180, 180, 180, 205, 215, 230, 66, 52, 65, 97, 150, 150, 245,\n",
    "      175, 66, 91, 113, 264, 175, 335, 109]\n"
   ]
  },
  {
   "cell_type": "code",
   "execution_count": 43,
   "metadata": {},
   "outputs": [
    {
     "data": {
      "text/plain": [
       "(-0.77616837182658638, 1.7878352541210664e-07)"
      ]
     },
     "execution_count": 43,
     "metadata": {},
     "output_type": "execute_result"
    }
   ],
   "source": [
    "#pearson correlation\n",
    "stats.pearsonr(mileage,hs_power)"
   ]
  },
  {
   "cell_type": "markdown",
   "metadata": {},
   "source": [
    "## The first value of the output gives the correlation between the horsepower and the mileage \n",
    "## Second value gives the p-value (significant correlation)\n",
    "\n"
   ]
  },
  {
   "cell_type": "code",
   "execution_count": 47,
   "metadata": {},
   "outputs": [
    {
     "data": {
      "image/png": "[encoded data removed]",
      "text/plain": [
       "<matplotlib.figure.Figure at 0x7f3ce98f3710>"
      ]
     },
     "metadata": {},
     "output_type": "display_data"
    }
   ],
   "source": [
    "# Visualise the correlation\n",
    "plt.xlabel('Mileage', fontsize=18)\n",
    "plt.ylabel('Power', fontsize=16)\n",
    "plt.scatter(mileage,hs_power,c='b',)\n",
    "plt.show()"
   ]
  },
  {
   "cell_type": "markdown",
   "metadata": {},
   "source": [
    "# Chi Square Test"
   ]
  },
  {
   "cell_type": "code",
   "execution_count": 13,
   "metadata": {
    "collapsed": true
   },
   "outputs": [],
   "source": [
    "import pandas as pd"
   ]
  },
  {
   "cell_type": "code",
   "execution_count": 30,
   "metadata": {},
   "outputs": [
    {
     "data": {
      "image/png": "[encoded data removed]",
      "text/plain": [
       "<IPython.core.display.Image object>"
      ]
     },
     "execution_count": 30,
     "metadata": {
      "image/png": {
       "height": 1000,
       "width": 400
      }
     },
     "output_type": "execute_result"
    }
   ],
   "source": [
    "from IPython.display import Image\n",
    "Image(filename='chi.png',height=1000,width=400)"
   ]
  },
  {
   "cell_type": "code",
   "execution_count": 31,
   "metadata": {
    "collapsed": true
   },
   "outputs": [],
   "source": [
    "men_women = np.array([[100, 120, 60],[350, 200, 90]])"
   ]
  },
  {
   "cell_type": "code",
   "execution_count": 35,
   "metadata": {},
   "outputs": [
    {
     "name": "stdout",
     "output_type": "stream",
     "text": [
      "[[100 120  60]\n",
      " [350 200  90]]\n"
     ]
    }
   ],
   "source": [
    "print(men_women)"
   ]
  },
  {
   "cell_type": "code",
   "execution_count": 38,
   "metadata": {},
   "outputs": [
    {
     "data": {
      "text/plain": [
       "(28.362103174603167,\n",
       " 6.9382117170577439e-07,\n",
       " 2,\n",
       " array([[ 136.95652174,   97.39130435,   45.65217391],\n",
       "        [ 313.04347826,  222.60869565,  104.34782609]]))"
      ]
     },
     "execution_count": 38,
     "metadata": {},
     "output_type": "execute_result"
    }
   ],
   "source": [
    "stats.chi2_contingency(men_women)"
   ]
  },
  {
   "cell_type": "markdown",
   "metadata": {},
   "source": [
    "\n",
    "Chi Square Value : 28.36\n",
    "\n",
    "p- Value : 6.9382117170577439e-07\n",
    "\n",
    "Dof : 2 \n",
    "\n",
    "Expected Frequencies \n",
    "\n",
    "p- value which is very small, and means that there is an association between the gender of people and the genre of the book they read"
   ]
  },
  {
   "cell_type": "code",
   "execution_count": null,
   "metadata": {
    "collapsed": true
   },
   "outputs": [],
   "source": []
  }
 ],
 "metadata": {
  "kernelspec": {
   "display_name": "Python 2",
   "language": "python",
   "name": "python2"
  },
  "language_info": {
   "codemirror_mode": {
    "name": "ipython",
    "version": 2
   },
   "file_extension": ".py",
   "mimetype": "text/x-python",
   "name": "python",
   "nbconvert_exporter": "python",
   "pygments_lexer": "ipython2",
   "version": "2.7.14"
  }
 },
 "nbformat": 4,
 "nbformat_minor": 2
}
